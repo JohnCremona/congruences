{
 "cells": [
  {
   "cell_type": "code",
   "execution_count": 1,
   "metadata": {},
   "outputs": [],
   "source": [
    "%runfile testcong.py"
   ]
  },
  {
   "cell_type": "markdown",
   "metadata": {},
   "source": [
    "## Read all optimal curves from the internal database (conductors from $1$ to $500000$) and make a hash table from the $a_p$ for $50$ primes (the first $50$ over $500000$).  This takes about 47 minutes so after doing it once we save the result, and later runs will read this (which takes a few seconds: the saved file is 52M)."
   ]
  },
  {
   "cell_type": "code",
   "execution_count": 2,
   "metadata": {
    "scrolled": true
   },
   "outputs": [
    {
     "data": {
      "text/plain": [
       "177"
      ]
     },
     "execution_count": 2,
     "metadata": {},
     "output_type": "execute_result"
    }
   ],
   "source": [
    "try:\n",
    "    hashtab_13_50 = load('hashtab13_50')\n",
    "except IOError:\n",
    "    hashtab_13_50 = make_hash(13,1,500000,50)\n",
    "    hashtab_13_50 = dict([(k,v) for k,v in hashtab_13_50.items() if len(v)>1])\n",
    "    save(hashtab_13_50, 'hashtab13_50')\n",
    "len(hashtab_13_50)"
   ]
  },
  {
   "cell_type": "markdown",
   "metadata": {},
   "source": [
    "## The hash table is a dictionary: congruent curves will have the same hash (but possibly some incongruent curves will also have the same hash, if they have the same values of $a_p\\pmod{13}$ for all $50$ primes tested).  So we extract sets of mutually congruent curves by looking at the dictionary's values (which are lists of labels) of length greater than one."
   ]
  },
  {
   "cell_type": "code",
   "execution_count": 3,
   "metadata": {},
   "outputs": [
    {
     "name": "stdout",
     "output_type": "stream",
     "text": [
      "The number of nontrivial congruent sets is 177\n",
      "Distribution of sizes of nontrivial congruent sets: Counter({2: 177})\n"
     ]
    }
   ],
   "source": [
    "congruent_sets = [s for s in hashtab_13_50.values() if len(s)>1]\n",
    "print(\"The number of nontrivial congruent sets is {}\".format(len(congruent_sets)))\n",
    "from collections import Counter\n",
    "sizes = Counter()\n",
    "for s in congruent_sets:\n",
    "    sizes[len(s)] += 1\n",
    "print(\"Distribution of sizes of nontrivial congruent sets: {}\".format(sizes))"
   ]
  },
  {
   "cell_type": "markdown",
   "metadata": {},
   "source": [
    "### Test each of these pairs to see if we have an actual congruence, using Kraus's criterion (possibly after twisting to reduce the conductors).  With the default mumax=5000000 there is one pair for which this is not rigorous:  '49a1' and '78400gw1'."
   ]
  },
  {
   "cell_type": "code",
   "execution_count": 4,
   "metadata": {},
   "outputs": [
    {
     "name": "stdout",
     "output_type": "stream",
     "text": [
      "all 177 sets of curves really are 13-congruent\n"
     ]
    }
   ],
   "source": [
    "bad_pairs = []\n",
    "for s in congruent_sets:\n",
    "    E1 = EllipticCurve(s[0])\n",
    "    for r in s[1:]:\n",
    "        E2 = EllipticCurve(r)\n",
    "        res, info = test_cong(13,E1,E2, mumax=15000000, verbose=False)\n",
    "        if not res:\n",
    "            report(res,info,13,s[0],r)\n",
    "            bad_pairs.append([s[0],r])\n",
    "if bad_pairs:\n",
    "    print(\"{} pairs of curves are not actually 13-congruent: {}\".format(len(bad_pairs),bad_pairs))\n",
    "else:\n",
    "    print(\"all {} sets of curves really are 13-congruent\".format(len(congruent_sets)))"
   ]
  },
  {
   "cell_type": "markdown",
   "metadata": {},
   "source": [
    "### So we have no \"false positive\" pairs"
   ]
  },
  {
   "cell_type": "code",
   "execution_count": 5,
   "metadata": {},
   "outputs": [
    {
     "data": {
      "text/plain": [
       "{{229376/675, 633814853024541310976/367993254509587395}, {-192843857539240787968/11336014217619, -462482914449031168/3326427}, {-262144/1035, 125147927114815865709295304704/64514985611316331088611125}, {-5714497/578, 520485930308291137904991956163697/10324609571495512997764268032}, {432/169, -328568038616615609088/546688785009341767}, {-138357846491853121383730987168838623/55816105091607428996184145920, 16974593/42750}, {-15298178/3125, 229651351304189696/172613560719655}, {-2673465150439/6656, -4588389636756983840791/348165727012709497424}, {-3712000/3, 1375088009512735250/59049}, {-328509/7, 16243931652855856371/14840880223020397}, {442368/13, -328568038616615609088/546688785009341767}, {-338463151209/3731840000, -8466080937320973893386418208940863778835049/3287760130713485443760036835295043584000}, {-27476276164729743854449/10604287663073280, -334350814467169/16500}, {5831/5, 172032746578729129/60555631504375}, {-79370312059129/12960, 4307133670770643495402925929/42379253152021800}, {-2933428257/937024, 7566447430766696803605297/106612037520473056}, {14498696188753873676763119/45187451118078092554500, -762949514912708039797646866801/45824812197620141357267649822720}, {135197595340769568321/655360, -982592721/12500}, {-1341546128885989523717947/1939446169600000, 12172507720863881923/680}}"
      ]
     },
     "execution_count": 5,
     "metadata": {},
     "output_type": "execute_result"
    }
   ],
   "source": [
    "Set([Set([EllipticCurve(lab).j_invariant() for lab in s]) for s in congruent_sets])"
   ]
  },
  {
   "cell_type": "code",
   "execution_count": 6,
   "metadata": {},
   "outputs": [
    {
     "data": {
      "text/plain": [
       "19"
      ]
     },
     "execution_count": 6,
     "metadata": {},
     "output_type": "execute_result"
    }
   ],
   "source": [
    "len(_)"
   ]
  },
  {
   "cell_type": "markdown",
   "metadata": {},
   "source": [
    "### Now we reduce to a smaller set of pairs such that every congruent pair is a twist of one in the smaller set"
   ]
  },
  {
   "cell_type": "code",
   "execution_count": 7,
   "metadata": {},
   "outputs": [
    {
     "name": "stdout",
     "output_type": "stream",
     "text": [
      "Out of 177 pairs, there are only 19 distinct pairs of j-invariants\n"
     ]
    }
   ],
   "source": [
    "j_pairs = [Set([EllipticCurve(s).j_invariant() for s in s2]) for s2 in congruent_sets]\n",
    "j_sets = list(Set(j_pairs))\n",
    "print(\"Out of {} pairs, there are only {} distinct pairs of j-invariants\".format(len(j_pairs),len(j_sets)))"
   ]
  },
  {
   "cell_type": "code",
   "execution_count": 8,
   "metadata": {},
   "outputs": [
    {
     "name": "stdout",
     "output_type": "stream",
     "text": [
      "19 congruent pairs up to twist: [['11025q1', '143325dp1'], ['14157s1', '99099z1'], ['1725a1', '50025c1'], ['12274c1', '135014s1'], ['52a1', '988b1'], ['418950m1', '418950n1'], ['237160f1', '237160g1'], ['1274h1', '21658t1'], ['161472k1', '161472l1'], ['14175w1', '184275ca1'], ['7488bb1', '142272fd1'], ['1190a1', '265370d1'], ['286110cy1', '286110cz1'], ['70805j1', '70805k1'], ['5070j1', '35490bg1'], ['11638o1', '151294h1'], ['11970o1', '131670ek1'], ['490050bz1', '490050cr1'], ['314330o1', '314330p1']]\n"
     ]
    }
   ],
   "source": [
    "congruent_pairs = []\n",
    "for jset in j_sets:\n",
    "    for s2 in congruent_sets:\n",
    "        if jset==Set([EllipticCurve(s).j_invariant() for s in s2]):\n",
    "            congruent_pairs.append(s2)\n",
    "            break\n",
    "print(\"{} congruent pairs up to twist: {}\".format(len(congruent_pairs),congruent_pairs))"
   ]
  },
  {
   "cell_type": "markdown",
   "metadata": {},
   "source": [
    "### Test whether all these are irreducible, i.e. have no $13$-isogenies:"
   ]
  },
  {
   "cell_type": "code",
   "execution_count": 9,
   "metadata": {},
   "outputs": [],
   "source": [
    "for s2 in congruent_pairs:\n",
    "    for s in s2:\n",
    "        E = EllipticCurve(s)\n",
    "        assert not E.isogenies_prime_degree(13)"
   ]
  },
  {
   "cell_type": "markdown",
   "metadata": {},
   "source": [
    "#### In fact the only isogeny degrees among these curves are 2, 3:"
   ]
  },
  {
   "cell_type": "code",
   "execution_count": 10,
   "metadata": {},
   "outputs": [
    {
     "data": {
      "text/plain": [
       "{2, 3}"
      ]
     },
     "execution_count": 10,
     "metadata": {},
     "output_type": "execute_result"
    }
   ],
   "source": [
    "sum([Set(EllipticCurve(s[0]).reducible_primes()) for s in congruent_pairs],Set())"
   ]
  },
  {
   "cell_type": "code",
   "execution_count": 11,
   "metadata": {},
   "outputs": [],
   "source": [
    "out = open(\"mod13pairs.m\",'w')\n",
    "out.write('pairs := [\\\\\\n')\n",
    "for s in congruent_sets[:-1]:\n",
    "    out.write('[\"{}\", \"{}\"],\\\\\\n'.format(s[0],s[1]))\n",
    "s = congruent_sets[-1]\n",
    "out.write('[\"{}\", \"{}\"]\\\\\\n'.format(s[0],s[1]))\n",
    "out.write('];\\n')\n",
    "out.close()"
   ]
  },
  {
   "cell_type": "code",
   "execution_count": 12,
   "metadata": {},
   "outputs": [],
   "source": [
    "out = open(\"mod13pairs_uptotwist.m\",'w')\n",
    "out.write('pairs := [\\\\\\n')\n",
    "for s in congruent_pairs[:-1]:\n",
    "    out.write('[EllipticCurve(\"{}\"), EllipticCurve(\"{}\")],\\\\\\n'.format(s[0],s[1]))\n",
    "s = congruent_pairs[-1]\n",
    "out.write('[EllipticCurve(\"{}\"), EllipticCurve(\"{}\")]\\\\\\n'.format(s[0],s[1]))\n",
    "out.write('];\\n')\n",
    "out.close()"
   ]
  },
  {
   "cell_type": "code",
   "execution_count": 13,
   "metadata": {},
   "outputs": [
    {
     "data": {
      "text/plain": [
       "19"
      ]
     },
     "execution_count": 13,
     "metadata": {},
     "output_type": "execute_result"
    }
   ],
   "source": [
    "len(congruent_pairs)"
   ]
  },
  {
   "cell_type": "code",
   "execution_count": 15,
   "metadata": {},
   "outputs": [
    {
     "name": "stdout",
     "output_type": "stream",
     "text": [
      "pair ['7488bb1', '142272fd1']: class sizes [2, 1]\n",
      "pair ['11025q1', '143325dp1']: class sizes [2, 1]\n",
      "pair ['11760bk1', '152880fi1']: class sizes [2, 1]\n",
      "pair ['10816ba1', '205504r1']: class sizes [2, 1]\n",
      "pair ['832d1', '15808g1']: class sizes [2, 1]\n",
      "pair ['35280ev1', '458640lf1']: class sizes [2, 1]\n",
      "pair ['20800cg1', '395200dh1']: class sizes [2, 1]\n",
      "pair ['24336br1', '462384ek1']: class sizes [2, 1]\n",
      "pair ['11760cn1', '152880r1']: class sizes [2, 1]\n",
      "pair ['3675i1', '47775bz1']: class sizes [2, 1]\n",
      "pair ['25168be1', '478192bm1']: class sizes [2, 1]\n",
      "pair ['300352bj1', '300352bk1']: class sizes [1, 2]\n",
      "pair ['244036i1', '244036j1']: class sizes [1, 2]\n",
      "pair ['2548i1', '48412k1']: class sizes [2, 1]\n",
      "pair ['124215a1', '124215b1']: class sizes [2, 1]\n",
      "pair ['10816c1', '205504ch1']: class sizes [2, 1]\n",
      "pair ['832h1', '15808u1']: class sizes [2, 1]\n",
      "pair ['11025u1', '143325dg1']: class sizes [2, 1]\n",
      "pair ['2205f1', '28665z1']: class sizes [2, 1]\n",
      "pair ['735c1', '9555h1']: class sizes [2, 1]\n",
      "pair ['372645db1', '372645dd1']: class sizes [1, 2]\n",
      "pair ['2205i1', '28665bi1']: class sizes [2, 1]\n",
      "pair ['18772e1', '18772f1']: class sizes [2, 1]\n",
      "pair ['300352bl1', '300352bm1']: class sizes [1, 2]\n",
      "pair ['10192be1', '193648q1']: class sizes [2, 1]\n",
      "pair ['469300v1', '469300w1']: class sizes [2, 1]\n",
      "pair ['372645cl1', '372645cn1']: class sizes [2, 1]\n",
      "pair ['1190a1', '265370d1']: class sizes [2, 1]\n",
      "pair ['35280dw1', '458640do1']: class sizes [2, 1]\n",
      "pair ['20800c1', '395200eu1']: class sizes [2, 1]\n",
      "pair ['7488cb1', '142272bx1']: class sizes [2, 1]\n",
      "pair ['15028a1', '285532c1']: class sizes [2, 1]\n",
      "pair ['52a1', '988b1']: class sizes [2, 1]\n",
      "pair ['6084i1', '115596o1']: class sizes [2, 1]\n",
      "pair ['16900a1', '321100t1']: class sizes [2, 1]\n",
      "pair ['676a1', '12844a1']: class sizes [2, 1]\n",
      "pair ['208c1', '3952c1']: class sizes [2, 1]\n",
      "pair ['735d1', '9555n1']: class sizes [2, 1]\n",
      "pair ['168948e1', '168948f1']: class sizes [2, 1]\n",
      "pair ['3675a1', '47775d1']: class sizes [2, 1]\n",
      "pair ['1872o1', '35568bk1']: class sizes [2, 1]\n",
      "pair ['1300b1', '24700j1']: class sizes [2, 1]\n",
      "pair ['11700o1', '222300bu1']: class sizes [2, 1]\n",
      "pair ['5200v1', '98800br1']: class sizes [2, 1]\n",
      "pair ['75088x1', '75088y1']: class sizes [2, 1]\n",
      "pair ['124215ck1', '124215cl1']: class sizes [2, 1]\n",
      "pair ['468c1', '8892j1']: class sizes [2, 1]\n",
      "pair ['2704f1', '51376s1']: class sizes [2, 1]\n",
      "pair ['22932w1', '435708ci1']: class sizes [2, 1]\n",
      "pair ['6292g1', '119548g1']: class sizes [2, 1]\n"
     ]
    }
   ],
   "source": [
    "for pair in congruent_sets:\n",
    "    sizes = [len(EllipticCurve(lab).isogeny_class()) for lab in pair]\n",
    "    if sizes != [1,1]:\n",
    "        print(\"pair {}: class sizes {}\".format(pair,sizes))"
   ]
  },
  {
   "cell_type": "code",
   "execution_count": 17,
   "metadata": {},
   "outputs": [
    {
     "data": {
      "text/plain": [
       "[-1, 1]"
      ]
     },
     "execution_count": 17,
     "metadata": {},
     "output_type": "execute_result"
    }
   ],
   "source": [
    "[legendre_symbol(a,13) for a in [2,3]]"
   ]
  },
  {
   "cell_type": "code",
   "execution_count": 18,
   "metadata": {},
   "outputs": [
    {
     "name": "stdout",
     "output_type": "stream",
     "text": [
      "23 pairs written to file\n"
     ]
    }
   ],
   "source": [
    "npc=0\n",
    "out = open(\"mod13_pairs.m\", \"w\")\n",
    "out.write('pairs := [\\\\\\n')\n",
    "for i,pair in enumerate(congruent_pairs):\n",
    "    cc = [all_c(c) for c in pair]\n",
    "    for c1 in cc[0]:\n",
    "        for c2 in cc[1]:\n",
    "            npc+=1\n",
    "            out.write('[\"{}\", \"{}\"]'.format(c1[0],c2[0]))\n",
    "            if i+1<len(congruent_pairs):\n",
    "                out.write(',')\n",
    "            out.write('\\\\\\n')\n",
    "out.write('];\\n')\n",
    "out.close()           \n",
    "print(\"{} pairs written to file\".format(npc))            "
   ]
  },
  {
   "cell_type": "code",
   "execution_count": 19,
   "metadata": {},
   "outputs": [
    {
     "data": {
      "text/plain": [
       "19"
      ]
     },
     "execution_count": 19,
     "metadata": {},
     "output_type": "execute_result"
    }
   ],
   "source": [
    "len(congruent_pairs)"
   ]
  },
  {
   "cell_type": "code",
   "execution_count": 16,
   "metadata": {},
   "outputs": [],
   "source": [
    "def class_js(lab):\n",
    "    E = EllipticCurve(lab)\n",
    "    return Set([E1.j_invariant() for E1 in E.isogeny_class()])\n",
    "def set_js(s):\n",
    "    return sum([class_js(lab) for lab in s], Set())"
   ]
  },
  {
   "cell_type": "code",
   "execution_count": 17,
   "metadata": {},
   "outputs": [],
   "source": [
    "irred_js = Set()\n",
    "for s in congruent_sets:\n",
    "    js = set_js(s)\n",
    "    irred_js = irred_js + Set(js)"
   ]
  },
  {
   "cell_type": "code",
   "execution_count": 18,
   "metadata": {},
   "outputs": [
    {
     "data": {
      "text/plain": [
       "39"
      ]
     },
     "execution_count": 18,
     "metadata": {},
     "output_type": "execute_result"
    }
   ],
   "source": [
    "len(irred_js)"
   ]
  },
  {
   "cell_type": "code",
   "execution_count": 19,
   "metadata": {},
   "outputs": [
    {
     "data": {
      "text/plain": [
       "177"
      ]
     },
     "execution_count": 19,
     "metadata": {},
     "output_type": "execute_result"
    }
   ],
   "source": [
    "len(congruent_sets)"
   ]
  },
  {
   "cell_type": "code",
   "execution_count": 15,
   "metadata": {},
   "outputs": [
    {
     "data": {
      "text/plain": [
       "(False, None)"
      ]
     },
     "execution_count": 15,
     "metadata": {},
     "output_type": "execute_result"
    }
   ],
   "source": [
    "from sage.schemes.elliptic_curves.cm import is_cm_j_invariant\n",
    "is_cm_j_invariant(8001)"
   ]
  },
  {
   "cell_type": "code",
   "execution_count": 17,
   "metadata": {},
   "outputs": [
    {
     "data": {
      "text/plain": [
       "[]"
      ]
     },
     "execution_count": 17,
     "metadata": {},
     "output_type": "execute_result"
    }
   ],
   "source": [
    "[j for j in irred_js if is_cm_j_invariant(j)[0]]"
   ]
  },
  {
   "cell_type": "code",
   "execution_count": null,
   "metadata": {},
   "outputs": [],
   "source": []
  }
 ],
 "metadata": {
  "kernelspec": {
   "display_name": "SageMath 8.9.beta7",
   "language": "sage",
   "name": "sagemath"
  },
  "language_info": {
   "codemirror_mode": {
    "name": "ipython",
    "version": 2
   },
   "file_extension": ".py",
   "mimetype": "text/x-python",
   "name": "python",
   "nbconvert_exporter": "python",
   "pygments_lexer": "ipython2",
   "version": "2.7.15"
  }
 },
 "nbformat": 4,
 "nbformat_minor": 2
}
