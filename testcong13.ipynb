{
 "cells": [
  {
   "cell_type": "code",
   "execution_count": 1,
   "metadata": {},
   "outputs": [],
   "source": [
    "%runfile testcong.py"
   ]
  },
  {
   "cell_type": "markdown",
   "metadata": {},
   "source": [
    "## Read all optimal curves from the internal database (conductors from $1$ to $400000$) and make a hash table from the $a_p$ for $30$ primes (the first $30$ over $400000$).  This takes about 47 minutes so after doing it once we save the result, and later runs will read this (which takes a few seconds: the saved file is 52M)."
   ]
  },
  {
   "cell_type": "code",
   "execution_count": 2,
   "metadata": {
    "scrolled": true
   },
   "outputs": [],
   "source": [
    "try:\n",
    "    hashtab_13_30 = load('hashtab_13_30')\n",
    "except IOError:\n",
    "    hashtab_13_30 = make_hash(13,1,400000,30)\n",
    "    save(hashtab_13_30, 'hashtab_13_30')"
   ]
  },
  {
   "cell_type": "markdown",
   "metadata": {},
   "source": [
    "## The hash table is a dictionary: congruent curves will have the same hash (but possibly some incongruent curves will also have the same hash, if they have the same values of $a_p\\pmod{13}$ for all $30$ primes tested).  So we extract sets of mutually congruent curves by looking at the dictionary's values (which are lists of labels) of length greater than one."
   ]
  },
  {
   "cell_type": "code",
   "execution_count": 3,
   "metadata": {},
   "outputs": [
    {
     "name": "stdout",
     "output_type": "stream",
     "text": [
      "The number of nontrivial congruent sets is 151\n",
      "Distribution of sizes of nontrivial congruent sets: Counter({2: 151})\n"
     ]
    }
   ],
   "source": [
    "congruent_sets = [s for s in hashtab_13_30.values() if len(s)>1]\n",
    "print(\"The number of nontrivial congruent sets is {}\".format(len(congruent_sets)))\n",
    "from collections import Counter\n",
    "sizes = Counter()\n",
    "for s in congruent_sets:\n",
    "    sizes[len(s)] += 1\n",
    "print(\"Distribution of sizes of nontrivial congruent sets: {}\".format(sizes))"
   ]
  },
  {
   "cell_type": "markdown",
   "metadata": {},
   "source": [
    "### Test each of these pairs to see if we have an actual congruence, using Kraus's criterion (possibly after twisting to reduce the conductors).  With the default mumax=5000000 there is one pair for which this is not rigorous:  '49a1' and '78400gw1'."
   ]
  },
  {
   "cell_type": "code",
   "execution_count": 4,
   "metadata": {},
   "outputs": [
    {
     "name": "stdout",
     "output_type": "stream",
     "text": [
      "Curves 49a1 and 78400gw1: testing ell up to 14837760 mod 13\n",
      "Congruence mod 13 fails for 25921a1 and 78400gw1\n",
      " (not even isomorphic up to semisimplication: (29, 2, -2) )\n",
      "1 pairs of curves are not actually 13-congruent: [['25921a1', '78400gw1']]\n"
     ]
    }
   ],
   "source": [
    "bad_pairs = []\n",
    "for s in congruent_sets:\n",
    "    E1 = EllipticCurve(s[0])\n",
    "    for r in s[1:]:\n",
    "        E2 = EllipticCurve(r)\n",
    "        res, info = test_cong(13,E1,E2, mumax=15000000, verbose=False)\n",
    "        if not res:\n",
    "            report(res,info,13,s[0],r)\n",
    "            bad_pairs.append([s[0],r])\n",
    "if bad_pairs:\n",
    "    print(\"{} pairs of curves are not actually 13-congruent: {}\".format(len(bad_pairs),bad_pairs))\n",
    "else:\n",
    "    print(\"all {} sets of curves really are 13-congruent\".format(len(congruent_sets)))"
   ]
  },
  {
   "cell_type": "markdown",
   "metadata": {},
   "source": [
    "### So we have one \"false positive\" pair which we now remove from the list of congruent pairs:"
   ]
  },
  {
   "cell_type": "code",
   "execution_count": 5,
   "metadata": {},
   "outputs": [
    {
     "name": "stdout",
     "output_type": "stream",
     "text": [
      "After removing the false positive pair ['25921a1', '78400gw1'], there are 150 congruent pairs remaining\n"
     ]
    }
   ],
   "source": [
    "bad_pair = bad_pairs[0]\n",
    "assert bad_pair in congruent_sets\n",
    "congruent_sets.remove(bad_pair)\n",
    "print(\"After removing the false positive pair {}, there are {} congruent pairs remaining\".format(bad_pair,len(congruent_sets)))"
   ]
  },
  {
   "cell_type": "markdown",
   "metadata": {},
   "source": [
    "### Now we reduce to a smaller set of pairs such that every congruent pair is a twist of one in the smaller set"
   ]
  },
  {
   "cell_type": "code",
   "execution_count": 6,
   "metadata": {},
   "outputs": [
    {
     "name": "stdout",
     "output_type": "stream",
     "text": [
      "Out of 150 pairs, there are only 19 distinct pairs of j-invariants\n"
     ]
    }
   ],
   "source": [
    "j_pairs = [Set([EllipticCurve(s).j_invariant() for s in s2]) for s2 in congruent_sets]\n",
    "j_sets = list(Set(j_pairs))\n",
    "print(\"Out of {} pairs, there are only {} distinct pairs of j-invariants\".format(len(j_pairs),len(j_sets)))"
   ]
  },
  {
   "cell_type": "code",
   "execution_count": 7,
   "metadata": {},
   "outputs": [
    {
     "name": "stdout",
     "output_type": "stream",
     "text": [
      "19 congruent pairs up to twist: [['11025u1', '143325dg1'], ['14157i1', '99099bp1'], ['5175j1', '150075w1'], ['12274j1', '135014j1'], ['208c1', '3952c1'], ['83790dz1', '83790ea1'], ['17640y1', '194040dh1'], ['10192bj1', '173264bo1'], ['20184k1', '20184l1'], ['14175y1', '184275h1'], ['1300b1', '24700j1'], ['1190a1', '265370d1'], ['95370cl1', '95370cm1'], ['1445b1', '10115e1'], ['5070j1', '35490bg1'], ['11638t1', '151294f1'], ['27930cc1', '307230fb1'], ['98010bh1', '98010bi1'], ['314330i1', '314330j1']]\n"
     ]
    }
   ],
   "source": [
    "congruent_pairs = []\n",
    "for jset in j_sets:\n",
    "    for s2 in congruent_sets:\n",
    "        if jset==Set([EllipticCurve(s).j_invariant() for s in s2]):\n",
    "            congruent_pairs.append(s2)\n",
    "            break\n",
    "print(\"{} congruent pairs up to twist: {}\".format(len(congruent_pairs),congruent_pairs))"
   ]
  },
  {
   "cell_type": "markdown",
   "metadata": {},
   "source": [
    "### Test whether all these are irreducible, i.e. have no $13$-isogenies:"
   ]
  },
  {
   "cell_type": "code",
   "execution_count": 8,
   "metadata": {},
   "outputs": [],
   "source": [
    "for s2 in congruent_pairs:\n",
    "    for s in s2:\n",
    "        E = EllipticCurve(s)\n",
    "        assert not E.isogenies_prime_degree(13)"
   ]
  },
  {
   "cell_type": "markdown",
   "metadata": {},
   "source": [
    "#### In fact the only isogeny degrees among these curves are 2, 3:"
   ]
  },
  {
   "cell_type": "code",
   "execution_count": 9,
   "metadata": {},
   "outputs": [
    {
     "data": {
      "text/plain": [
       "{2, 3}"
      ]
     },
     "execution_count": 9,
     "metadata": {},
     "output_type": "execute_result"
    }
   ],
   "source": [
    "sum([Set(EllipticCurve(s[0]).reducible_primes()) for s in congruent_pairs],Set())"
   ]
  },
  {
   "cell_type": "code",
   "execution_count": 10,
   "metadata": {},
   "outputs": [],
   "source": [
    "out = open(\"mod13pairs_uptotwist.m\",'w')\n",
    "out.write('pairs := [\\\\\\n')\n",
    "for s in congruent_pairs[:-1]:\n",
    "    out.write('[EllipticCurve(\"{}\"), EllipticCurve(\"{}\")],\\\\\\n'.format(s[0],s[1]))\n",
    "s = congruent_pairs[-1]\n",
    "out.write('[EllipticCurve(\"{}\"), EllipticCurve(\"{}\")]\\\\\\n'.format(s[0],s[1]))\n",
    "out.write('];\\n')\n",
    "out.close()"
   ]
  },
  {
   "cell_type": "code",
   "execution_count": 11,
   "metadata": {},
   "outputs": [
    {
     "data": {
      "text/plain": [
       "19"
      ]
     },
     "execution_count": 11,
     "metadata": {},
     "output_type": "execute_result"
    }
   ],
   "source": [
    "len(congruent_pairs)"
   ]
  },
  {
   "cell_type": "code",
   "execution_count": 12,
   "metadata": {},
   "outputs": [
    {
     "name": "stdout",
     "output_type": "stream",
     "text": [
      "pair ['11025u1', '143325dg1']: class sizes [2, 1]\n",
      "pair ['208c1', '3952c1']: class sizes [2, 1]\n",
      "pair ['1300b1', '24700j1']: class sizes [2, 1]\n",
      "pair ['1190a1', '265370d1']: class sizes [2, 1]\n"
     ]
    }
   ],
   "source": [
    "for pair in congruent_pairs:\n",
    "    sizes = [len(EllipticCurve(lab).isogeny_class()) for lab in pair]\n",
    "    if sizes != [1,1]:\n",
    "        print(\"pair {}: class sizes {}\".format(pair,sizes))"
   ]
  },
  {
   "cell_type": "code",
   "execution_count": 13,
   "metadata": {},
   "outputs": [
    {
     "data": {
      "text/plain": [
       "[-1, 1]"
      ]
     },
     "execution_count": 13,
     "metadata": {},
     "output_type": "execute_result"
    }
   ],
   "source": [
    "[legendre_symbol(a,13) for a in [2,3]]"
   ]
  },
  {
   "cell_type": "code",
   "execution_count": 14,
   "metadata": {},
   "outputs": [
    {
     "name": "stdout",
     "output_type": "stream",
     "text": [
      "23 pairs written to file\n"
     ]
    }
   ],
   "source": [
    "npc=0\n",
    "out = open(\"mod13_pairs.m\", \"w\")\n",
    "out.write('pairs := [\\\\\\n')\n",
    "for i,pair in enumerate(congruent_pairs):\n",
    "    cc = [all_c(c) for c in pair]\n",
    "    for c1 in cc[0]:\n",
    "        for c2 in cc[1]:\n",
    "            npc+=1\n",
    "            out.write('[\"{}\", \"{}\"]'.format(c1[0],c2[0]))\n",
    "            if i+1<len(congruent_pairs):\n",
    "                out.write(',')\n",
    "            out.write('\\\\\\n')\n",
    "out.write('];\\n')\n",
    "out.close()           \n",
    "print(\"{} pairs written to file\".format(npc))            "
   ]
  },
  {
   "cell_type": "code",
   "execution_count": 15,
   "metadata": {},
   "outputs": [
    {
     "data": {
      "text/plain": [
       "19"
      ]
     },
     "execution_count": 15,
     "metadata": {},
     "output_type": "execute_result"
    }
   ],
   "source": [
    "len(congruent_pairs)"
   ]
  },
  {
   "cell_type": "code",
   "execution_count": null,
   "metadata": {},
   "outputs": [],
   "source": []
  }
 ],
 "metadata": {
  "kernelspec": {
   "display_name": "SageMath 8.4",
   "language": "",
   "name": "sagemath"
  },
  "language_info": {
   "codemirror_mode": {
    "name": "ipython",
    "version": 2
   },
   "file_extension": ".py",
   "mimetype": "text/x-python",
   "name": "python",
   "nbconvert_exporter": "python",
   "pygments_lexer": "ipython2",
   "version": "2.7.15"
  }
 },
 "nbformat": 4,
 "nbformat_minor": 2
}
