{
 "cells": [
  {
   "cell_type": "code",
   "execution_count": 4,
   "metadata": {},
   "outputs": [],
   "source": [
    "%run testcong.py\n",
    "%run XE7.py"
   ]
  },
  {
   "cell_type": "code",
   "execution_count": 2,
   "metadata": {},
   "outputs": [],
   "source": [
    "Rab.<a,b> = QQ[]\n",
    "P2.<X,Y,Z> = ProjectiveSpace(Rab,2)"
   ]
  },
  {
   "cell_type": "code",
   "execution_count": 3,
   "metadata": {},
   "outputs": [
    {
     "name": "stdout",
     "output_type": "stream",
     "text": [
      "a*x0^4 + 3*x0^2*x1^2 + 7*b*x0^3*x2 + 2*x1^3*x2 + (-3*a^2)*x0^2*x2^2 + (-6*b)*x0*x1*x2^2 + 3*a*x1^2*x2^2 + (-5*a*b)*x0*x2^3 + 2*a^2*x1*x2^3 + (-4*b^2)*x2^4\n"
     ]
    },
    {
     "data": {
      "text/plain": [
       "(6, 14, 21)"
      ]
     },
     "execution_count": 3,
     "metadata": {},
     "output_type": "execute_result"
    }
   ],
   "source": [
    "Fab = F_ab(a,b)\n",
    "print(Fab)\n",
    "Dab = Del(Fab)\n",
    "Cab = C_covariant(Fab)\n",
    "Kab = K_covariant(Fab)\n",
    "assert all(g.is_homogeneous() for g in [Dab,Cab,Kab])\n",
    "Dab.degree(), Cab.degree(), Kab.degree()"
   ]
  },
  {
   "cell_type": "code",
   "execution_count": 4,
   "metadata": {},
   "outputs": [],
   "source": [
    "F_klein = X^3*Y + Y^3*Z + Z^3*X\n",
    "D_klein = Del(F_klein)\n",
    "C_klein = C_covariant(F_klein)\n",
    "K_klein = K_covariant(F_klein)\n",
    "\n",
    "assert (C_klein^3 + 1728*D_klein^7 - K_klein^2) % F_klein == 0"
   ]
  },
  {
   "cell_type": "code",
   "execution_count": 5,
   "metadata": {},
   "outputs": [
    {
     "data": {
      "text/plain": [
       "Elliptic Curve defined by y^2 = x^3 + a*x + b over Multivariate Polynomial Ring in a, b over Rational Field"
      ]
     },
     "execution_count": 5,
     "metadata": {},
     "output_type": "execute_result"
    }
   ],
   "source": [
    "E_ab = EllipticCurve([a,b]); E_ab"
   ]
  },
  {
   "cell_type": "code",
   "execution_count": 7,
   "metadata": {},
   "outputs": [
    {
     "data": {
      "text/plain": [
       "-1/18"
      ]
     },
     "execution_count": 7,
     "metadata": {},
     "output_type": "execute_result"
    }
   ],
   "source": [
    "-E_ab.c4()/ E_ab.c6()\n",
    "-48/864"
   ]
  },
  {
   "cell_type": "code",
   "execution_count": 8,
   "metadata": {},
   "outputs": [],
   "source": [
    "P_E = [0,1,0]\n",
    "assert Fab(P_E)==0\n",
    "C_E = Cab(P_E)\n",
    "assert C_E==2^4 * E_ab.c4()\n",
    "K_E = Kab(P_E)\n",
    "assert K_E==-2^6 * E_ab.c6()\n",
    "D_E = Dab(P_E)^7"
   ]
  },
  {
   "cell_type": "code",
   "execution_count": 9,
   "metadata": {},
   "outputs": [],
   "source": [
    "assert 0 == (Cab^3 -Kab^2 + 432*E_ab.discriminant()*Dab^7) % Fab"
   ]
  },
  {
   "cell_type": "code",
   "execution_count": 10,
   "metadata": {},
   "outputs": [],
   "source": [
    "def test(aa,bb,jdash):\n",
    "    P2Q.<x,y,z> = ProjectiveSpace(QQ,2)\n",
    "    F = F_ab(aa,bb)\n",
    "    DeltaE = -16*(4*aa^3+27*bb^2)\n",
    "    D = Del(F)\n",
    "    C = C_covariant(F)\n",
    "    G = jdash*DeltaE*D^7+4*C^3\n",
    "    \n",
    "    R2.<u,v>=QQ[]\n",
    "    R1.<w>=QQ[]\n",
    "    f = F([1,w,0])\n",
    "    g = G([1,w,0])\n",
    "    h = f.gcd(g)\n",
    "    sols = [[1,r,0] for r in h.roots(multiplicities=False)]\n",
    "    if sols:\n",
    "        print(\"points on z=0: {}\".format(sols))\n",
    "    f = F([u,v,1])\n",
    "    g = G([u,v,1])\n",
    "    #print(\"f={}\".format(f))\n",
    "    #print(\"g={}\".format(g))\n",
    "    res = f.resultant(g)\n",
    "    res = res([1,w])\n",
    "    #print(\"resultant={}\".format(res))\n",
    "    rts = res.roots(multiplicities=False)\n",
    "    print(\"roots: {}\".format(rts))\n",
    "    sols=[]\n",
    "    for r in rts:\n",
    "        ss = f([w,r]).roots(multiplicities=False)\n",
    "        for s in ss:\n",
    "            sols.append([s,r])\n",
    "    return sols\n",
    "    #sol = P2Q.subscheme([F,G])\n",
    "    #print(\"solution set has dimension {}\".format(sol.dimension()))\n",
    "    #return sol\n",
    "    #return sol.dimension()"
   ]
  },
  {
   "cell_type": "code",
   "execution_count": 11,
   "metadata": {},
   "outputs": [
    {
     "name": "stdout",
     "output_type": "stream",
     "text": [
      "a = -9747, b = -285714\n",
      "3 * 5 * 7 * 547\n",
      "roots: [18369]\n"
     ]
    },
    {
     "data": {
      "text/plain": [
       "[[-393, 18369]]"
      ]
     },
     "execution_count": 11,
     "metadata": {},
     "output_type": "execute_result"
    }
   ],
   "source": [
    "E = EllipticCurve('105a2')\n",
    "_,_,_,aa,bb = E.short_weierstrass_model().ainvs()\n",
    "print(\"a = {}, b = {}\".format(aa,bb))\n",
    "#\n",
    "A1 = 15684182\n",
    "B1 = 150979941971\n",
    "Edash = EllipticCurve([1,0,1,A1,B1])\n",
    "print(Edash.conductor().factor())\n",
    "assert Edash.conductor()==105*547\n",
    "jdash = Edash.j_invariant()\n",
    "#\n",
    "\n",
    "sol = test(aa,bb,jdash)\n",
    "sol"
   ]
  },
  {
   "cell_type": "code",
   "execution_count": null,
   "metadata": {},
   "outputs": [],
   "source": []
  },
  {
   "cell_type": "code",
   "execution_count": 12,
   "metadata": {},
   "outputs": [],
   "source": [
    "P=[-393,18369,1]\n",
    "DeltaE = -16*(4*aa^3+27*bb^2)\n",
    "P2Q.<x,y,z> = ProjectiveSpace(QQ,2)\n",
    "F=F_ab(aa,bb)\n",
    "assert F(P)==0\n",
    "C = C_covariant(F)\n",
    "D = Del(F)\n",
    "assert jdash == -4*C(P)^3/(DeltaE*D(P)^7)\n",
    "d = 2*z*(aa*x^2+3*bb*x*z+2*aa*y*z+3*y^2)\n",
    "c4 = C(P)*d(P)^2\n",
    "c6 = K_covariant(F)(P)*d(P)^3\n",
    "E2 = EllipticCurve([0,0,0,-c4/48,-c6/864])\n",
    "assert Edash.is_isomorphic(E2)"
   ]
  },
  {
   "cell_type": "code",
   "execution_count": 13,
   "metadata": {},
   "outputs": [
    {
     "name": "stdout",
     "output_type": "stream",
     "text": [
      "a = -3483, b = 121014\n",
      "roots: []\n"
     ]
    }
   ],
   "source": [
    "E = EllipticCurve('26b1')\n",
    "_,_,_,aa,bb = E.short_weierstrass_model().ainvs()\n",
    "print(\"a = {}, b = {}\".format(aa,bb))\n",
    "#\n",
    "Edash = EllipticCurve('174b2')\n",
    "jdash = Edash.j_invariant()\n",
    "sol = test(aa,bb,jdash)"
   ]
  },
  {
   "cell_type": "code",
   "execution_count": 14,
   "metadata": {},
   "outputs": [
    {
     "data": {
      "text/plain": [
       "[]"
      ]
     },
     "execution_count": 14,
     "metadata": {},
     "output_type": "execute_result"
    }
   ],
   "source": [
    "sol"
   ]
  },
  {
   "cell_type": "code",
   "execution_count": 6,
   "metadata": {},
   "outputs": [
    {
     "name": "stdout",
     "output_type": "stream",
     "text": [
      "Testing 143220a1 =(0, 1, 0, -2934090, -1935433035) and 221340d1 = (0, 1, 0, 92700, -12357420)\n",
      "Testing P=[-177168/5, 6400204704/5, 1]\n",
      "mapping P=[-177168/5, 6400204704/5, 1] to its curve\n",
      "d = -3681016205948928/5 via d11\n",
      "P=[-177168/5, 6400204704/5, 1] is a general point, returning (0, 1, 0, 92700, -12357420)\n",
      "Testing E2=(0, 1, 0, 92700, -12357420)\n",
      "success with E2\n",
      "Success! curves E1=(0, 1, 0, -2934090, -1935433035) and E2=(0, 1, 0, 92700, -12357420) and are symplectically isomorphic: P=[-177168/5, 6400204704/5, 1] on X_E1(7) maps to E2\n",
      "CPU times: user 2.2 s, sys: 30.9 ms, total: 2.24 s\n",
      "Wall time: 2.23 s\n"
     ]
    },
    {
     "data": {
      "text/plain": [
       "True"
      ]
     },
     "execution_count": 6,
     "metadata": {},
     "output_type": "execute_result"
    }
   ],
   "source": [
    "%time test_isom_labels('143220a1', '221340d1', True)"
   ]
  },
  {
   "cell_type": "code",
   "execution_count": 7,
   "metadata": {},
   "outputs": [
    {
     "name": "stdout",
     "output_type": "stream",
     "text": [
      "Testing 78400lc1 =(0, 0, 0, 24500, -3430000) and 235200e1 = (0, -1, 0, -45733, 4517437)\n",
      "Testing P=[-70, 24500, 1]\n",
      "mapping P=[-70, 24500, 1] to its curve\n",
      "d = -7683200000 via d11\n",
      "P=[-70, 24500, 1] is a general point, returning (0, -1, 0, -45733, 4517437)\n",
      "Testing E2=(0, -1, 0, -45733, 4517437)\n",
      "success with E2\n",
      "Success! curves E1=(0, 0, 0, 24500, -3430000) and E2=(0, -1, 0, -45733, 4517437) and are symplectically isomorphic: P=[-70, 24500, 1] on X_E1(7) maps to E2\n",
      "CPU times: user 1.01 s, sys: 0 ns, total: 1.01 s\n",
      "Wall time: 1.01 s\n"
     ]
    },
    {
     "data": {
      "text/plain": [
       "True"
      ]
     },
     "execution_count": 7,
     "metadata": {},
     "output_type": "execute_result"
    }
   ],
   "source": [
    "%time test_isom_labels('78400lc1', '235200e1', verbose=True)"
   ]
  },
  {
   "cell_type": "code",
   "execution_count": 8,
   "metadata": {},
   "outputs": [
    {
     "name": "stdout",
     "output_type": "stream",
     "text": [
      "Testing 29645f1 =(1, -1, 0, -69295, 15239846) and 88935b1 = (1, 1, 0, -43874723, -119276722242)\n",
      "Testing P=[2079, 138791961, 1]\n",
      "mapping P=[2079, 138791961, 1] to its curve\n",
      "d = -73804512640320000 via d11\n",
      "P=[2079, 138791961, 1] is a general point, returning (1, 1, 0, -43874723, -119276722242)\n",
      "Testing E2=(1, 1, 0, -43874723, -119276722242)\n",
      "success with E2\n",
      "Success! curves E1=(1, -1, 0, -69295, 15239846) and E2=(1, 1, 0, -43874723, -119276722242) and are symplectically isomorphic: P=[2079, 138791961, 1] on X_E1(7) maps to E2\n",
      "CPU times: user 1.46 s, sys: 7.7 ms, total: 1.46 s\n",
      "Wall time: 1.46 s\n"
     ]
    },
    {
     "data": {
      "text/plain": [
       "True"
      ]
     },
     "execution_count": 8,
     "metadata": {},
     "output_type": "execute_result"
    }
   ],
   "source": [
    "%time test_isom_labels('29645f1', '88935b1', True)"
   ]
  },
  {
   "cell_type": "code",
   "execution_count": 9,
   "metadata": {},
   "outputs": [
    {
     "name": "stdout",
     "output_type": "stream",
     "text": [
      "Testing 75225f1 =(1, 1, 1, -196888, 33544106) and 75225g1 = (1, 1, 1, -42263, -19058344)\n",
      "Testing P=[9213, 85152015, 1]\n",
      "mapping P=[9213, 85152015, 1] to its curve\n",
      "d = -9101419200 via d11\n",
      "P=[9213, 85152015, 1] is a general point, returning (1, 1, 1, -42263, -19058344)\n",
      "Testing E2=(1, 1, 1, -42263, -19058344)\n",
      "success with E2\n",
      "Success! curves E1=(1, 1, 1, -196888, 33544106) and E2=(1, 1, 1, -42263, -19058344) and are symplectically isomorphic: P=[9213, 85152015, 1] on X_E1(7) maps to E2\n",
      "CPU times: user 1.42 s, sys: 15.8 ms, total: 1.43 s\n",
      "Wall time: 1.43 s\n"
     ]
    },
    {
     "data": {
      "text/plain": [
       "True"
      ]
     },
     "execution_count": 9,
     "metadata": {},
     "output_type": "execute_result"
    }
   ],
   "source": [
    "%time test_isom_labels('75225f1', '75225g1', True)"
   ]
  },
  {
   "cell_type": "code",
   "execution_count": 10,
   "metadata": {},
   "outputs": [
    {
     "name": "stdout",
     "output_type": "stream",
     "text": [
      "Testing 146205i1 =(1, -1, 0, -609, 179558) and 321651n2 = (1, -1, 0, 35130, -39260053)\n",
      "No lifts of  E2 to X_E(7)\n",
      "CPU times: user 1.55 s, sys: 11.6 ms, total: 1.56 s\n",
      "Wall time: 1.56 s\n"
     ]
    },
    {
     "data": {
      "text/plain": [
       "False"
      ]
     },
     "execution_count": 10,
     "metadata": {},
     "output_type": "execute_result"
    }
   ],
   "source": [
    "%time test_isom_labels('146205i1', '321651n2', verbose=True)"
   ]
  },
  {
   "cell_type": "code",
   "execution_count": 23,
   "metadata": {},
   "outputs": [],
   "source": [
    "#test_isom2(EllipticCurve('143220a1'), EllipticCurve('221340d1'))"
   ]
  },
  {
   "cell_type": "code",
   "execution_count": 24,
   "metadata": {},
   "outputs": [
    {
     "data": {
      "text/plain": [
       "[1, 1, 1]"
      ]
     },
     "execution_count": 24,
     "metadata": {},
     "output_type": "execute_result"
    }
   ],
   "source": [
    "# A triple of irreducibles\n",
    "ss = ['40222s1', '281554dw1', '350506v1']\n",
    "[len(EllipticCurve(lab).isogeny_class()) for lab in ss]"
   ]
  },
  {
   "cell_type": "code",
   "execution_count": 25,
   "metadata": {},
   "outputs": [
    {
     "data": {
      "text/plain": [
       "True"
      ]
     },
     "execution_count": 25,
     "metadata": {},
     "output_type": "execute_result"
    }
   ],
   "source": [
    "test_isom_labels(ss[0],ss[1])"
   ]
  },
  {
   "cell_type": "code",
   "execution_count": 26,
   "metadata": {},
   "outputs": [
    {
     "data": {
      "text/plain": [
       "True"
      ]
     },
     "execution_count": 26,
     "metadata": {},
     "output_type": "execute_result"
    }
   ],
   "source": [
    "test_isom_labels(ss[0],ss[2])"
   ]
  },
  {
   "cell_type": "code",
   "execution_count": 27,
   "metadata": {},
   "outputs": [
    {
     "data": {
      "text/plain": [
       "True"
      ]
     },
     "execution_count": 27,
     "metadata": {},
     "output_type": "execute_result"
    }
   ],
   "source": [
    "test_isom_labels(ss[1],ss[2])"
   ]
  },
  {
   "cell_type": "code",
   "execution_count": 28,
   "metadata": {},
   "outputs": [
    {
     "data": {
      "text/plain": [
       "[1, 1, 1, 1, 1]"
      ]
     },
     "execution_count": 28,
     "metadata": {},
     "output_type": "execute_result"
    }
   ],
   "source": [
    "# a 5-tuple of irreducibles\n",
    "ss = ['235b1', '11515e1', '19505b1', '31255b1', '156745b1']\n",
    "[len(EllipticCurve(lab).isogeny_class()) for lab in ss]"
   ]
  },
  {
   "cell_type": "code",
   "execution_count": 6,
   "metadata": {},
   "outputs": [
    {
     "name": "stdout",
     "output_type": "stream",
     "text": [
      "True\n",
      "True\n",
      "True\n",
      "True\n",
      "True\n",
      "True\n"
     ]
    }
   ],
   "source": [
    "s1 = '235b1'; s2 = '11515e1'; s3 = '19505b1'\n",
    "print(test_isom_labels(s1,s2))\n",
    "print(test_isom_labels(s2,s1))\n",
    "print(test_isom_labels(s1,s3))\n",
    "print(test_isom_labels(s3,s1))\n",
    "print(test_isom_labels(s2,s3))\n",
    "print(test_isom_labels(s3,s2))"
   ]
  },
  {
   "cell_type": "code",
   "execution_count": 7,
   "metadata": {},
   "outputs": [
    {
     "name": "stdout",
     "output_type": "stream",
     "text": [
      "Testing 11515e1 =(1, 1, 1, -1, -36) and 19505b1 = (1, 1, 1, 226704, 41841604)\n",
      "Testing P=[1, 21, 0]\n",
      "mapping P=[1, 21, 0] to its curve\n",
      "d = 0 via d11\n",
      "d = -13063680 via d12\n",
      "P=[1, 21, 0] is a general point, returning (1, 1, 1, 226704, 41841604)\n",
      "Testing E2=(1, 1, 1, 226704, 41841604)\n",
      "success with E2\n",
      "Success! curves E1=(1, 1, 1, -1, -36) and E2=(1, 1, 1, 226704, 41841604) and are symplectically isomorphic: P=[1, 21, 0] on X_E1(7) maps to E2\n",
      "True\n"
     ]
    }
   ],
   "source": [
    "print(test_isom_labels(s2,s3,verbose=True))"
   ]
  },
  {
   "cell_type": "code",
   "execution_count": 8,
   "metadata": {},
   "outputs": [
    {
     "name": "stdout",
     "output_type": "stream",
     "text": [
      "Testing 11a1 =(0, -1, 1, -10, -20) and 20185b1 = (0, -1, 1, -8526286, 140410525642)\n",
      "No lifts of  E2 to X_E(7)\n",
      "False\n"
     ]
    }
   ],
   "source": [
    "print(test_isom_labels('11a1', '20185b1', verbose=True))"
   ]
  },
  {
   "cell_type": "code",
   "execution_count": 9,
   "metadata": {},
   "outputs": [
    {
     "name": "stdout",
     "output_type": "stream",
     "text": [
      "Testing 4900e1 =(0, 1, 0, 22867, 318863) and 4900h1 = (0, 1, 0, -1220508, -519712012)\n",
      "No lifts of  E2 to X_E(7)\n",
      "False\n"
     ]
    }
   ],
   "source": [
    "print(test_isom_labels('4900e1', '4900h1', verbose=True))"
   ]
  },
  {
   "cell_type": "code",
   "execution_count": 10,
   "metadata": {},
   "outputs": [
    {
     "name": "stdout",
     "output_type": "stream",
     "text": [
      "Testing 4900e1 =(0, 1, 0, 22867, 318863) and 4900h2 = (0, 1, 0, 1180492, -2205214012)\n",
      "Testing P=[5880, 12348000, 1]\n",
      "mapping P=[5880, 12348000, 1] to its curve\n",
      "d = -4940128569600000 via d11\n",
      "P=[5880, 12348000, 1] is a general point, returning (0, 1, 0, 1180492, -2205214012)\n",
      "Testing E2=(0, 1, 0, 1180492, -2205214012)\n",
      "success with E2\n",
      "Success! curves E1=(0, 1, 0, 22867, 318863) and E2=(0, 1, 0, 1180492, -2205214012) and are symplectically isomorphic: P=[5880, 12348000, 1] on X_E1(7) maps to E2\n",
      "True\n"
     ]
    }
   ],
   "source": [
    "print(test_isom_labels('4900e1', '4900h2', verbose=True))"
   ]
  },
  {
   "cell_type": "code",
   "execution_count": 11,
   "metadata": {},
   "outputs": [
    {
     "name": "stdout",
     "output_type": "stream",
     "text": [
      "Testing 62400fv2 =(0, -1, 0, -568484833, 5715707857537) and 62400fz1 = (0, -1, 0, 3167, -118463)\n",
      "No lifts of  E2 to X_E(7)\n",
      "False\n"
     ]
    }
   ],
   "source": [
    "print(test_isom_labels('62400fv2', '62400fz1', verbose=True))"
   ]
  },
  {
   "cell_type": "code",
   "execution_count": 12,
   "metadata": {},
   "outputs": [
    {
     "name": "stdout",
     "output_type": "stream",
     "text": [
      "Testing 3774f1 =(1, 1, 0, -1230836, 783755088) and 4998f1 = (1, 1, 0, -1201, -16043)\n",
      "No lifts of  E2 to X_E(7)\n",
      "False\n"
     ]
    }
   ],
   "source": [
    "print(test_isom_labels('3774f1', '4998f1', verbose=True))"
   ]
  },
  {
   "cell_type": "code",
   "execution_count": 33,
   "metadata": {},
   "outputs": [
    {
     "data": {
      "text/plain": [
       "True"
      ]
     },
     "execution_count": 33,
     "metadata": {},
     "output_type": "execute_result"
    }
   ],
   "source": [
    "Fab([X,Y,0]) == X^2 * (a*X^2+3*Y^2)"
   ]
  },
  {
   "cell_type": "code",
   "execution_count": 34,
   "metadata": {},
   "outputs": [
    {
     "data": {
      "text/plain": [
       "0"
      ]
     },
     "execution_count": 34,
     "metadata": {},
     "output_type": "execute_result"
    }
   ],
   "source": [
    "F1 = F_ab(-3*a^2,b); P = [1,a,0]; F1(P)"
   ]
  },
  {
   "cell_type": "code",
   "execution_count": 35,
   "metadata": {},
   "outputs": [
    {
     "data": {
      "text/plain": [
       "(607353825886168154112*a^30 + 8267736743851648352256*a^27*b + 34377802050954319626240*a^24*b^2 + 27441769609655689936896*a^21*b^3 - 66701217829696960462848*a^18*b^4 + 10344980785745685381120*a^15*b^5 + 10191182607072099827712*a^12*b^6 - 749646099960857100288*a^9*b^7 - 645737765787734409216*a^6*b^8 - 56704570830822555648*a^3*b^9)/(104071738117489606656*a^30 - 105913715783285882880*a^27*b - 2255607606235041792*a^24*b^2 + 40722218353417863168*a^21*b^3 - 16453791009221142528*a^18*b^4 - 583464602439161856*a^15*b^5 + 2180425473800824320*a^12*b^6 - 708876754848525312*a^9*b^7 + 110797241982211008*a^6*b^8 - 8873483129114688*a^3*b^9 + 292992367470768*b^10)"
      ]
     },
     "execution_count": 35,
     "metadata": {},
     "output_type": "execute_result"
    }
   ],
   "source": [
    "C1 = C_covariant(F1)\n",
    "Delta1 = E_ab.discriminant()([-3*a^2,b])\n",
    "D1 = Del(F1)\n",
    "-4*C1(P)^3/(Delta1*D1(P)^7)"
   ]
  },
  {
   "cell_type": "code",
   "execution_count": 36,
   "metadata": {},
   "outputs": [
    {
     "data": {
      "text/plain": [
       "(144) * a * (2*a^3 + b)^2 * (-37048*a^9 - 168108*a^6*b + 63798*a^3*b^2 + 16807*b^3)"
      ]
     },
     "execution_count": 36,
     "metadata": {},
     "output_type": "execute_result"
    }
   ],
   "source": [
    "C1(P).factor()"
   ]
  },
  {
   "cell_type": "code",
   "execution_count": 37,
   "metadata": {},
   "outputs": [
    {
     "data": {
      "text/plain": [
       "(-1) * (-226*a^3 + 49*b) * (2*a^3 + b)"
      ]
     },
     "execution_count": 37,
     "metadata": {},
     "output_type": "execute_result"
    }
   ],
   "source": [
    "D1(P).factor()"
   ]
  },
  {
   "cell_type": "code",
   "execution_count": 38,
   "metadata": {},
   "outputs": [
    {
     "data": {
      "text/plain": [
       "Elliptic Curve defined by y^2 + y = x^3 - x^2 - 8526286*x + 140410525642 over Rational Field"
      ]
     },
     "execution_count": 38,
     "metadata": {},
     "output_type": "execute_result"
    }
   ],
   "source": [
    "EllipticCurve('20185b1')"
   ]
  },
  {
   "cell_type": "code",
   "execution_count": null,
   "metadata": {},
   "outputs": [],
   "source": []
  },
  {
   "cell_type": "code",
   "execution_count": 40,
   "metadata": {},
   "outputs": [],
   "source": [
    "%run XE7.py"
   ]
  },
  {
   "cell_type": "code",
   "execution_count": 41,
   "metadata": {},
   "outputs": [],
   "source": [
    "X = XE7.from_label(s2)"
   ]
  },
  {
   "cell_type": "code",
   "execution_count": 42,
   "metadata": {},
   "outputs": [
    {
     "data": {
      "text/plain": [
       "1288549602355652796671/1498588415902151075"
      ]
     },
     "execution_count": 42,
     "metadata": {},
     "output_type": "execute_result"
    }
   ],
   "source": [
    "E3=EllipticCurve(s3); j3=E3.j_invariant(); j3"
   ]
  },
  {
   "cell_type": "code",
   "execution_count": 45,
   "metadata": {},
   "outputs": [
    {
     "data": {
      "text/plain": [
       "[[1, 21, 0]]"
      ]
     },
     "execution_count": 45,
     "metadata": {},
     "output_type": "execute_result"
    }
   ],
   "source": [
    "X.lift_j(j3)"
   ]
  },
  {
   "cell_type": "code",
   "execution_count": 46,
   "metadata": {},
   "outputs": [
    {
     "data": {
      "text/plain": [
       "True"
      ]
     },
     "execution_count": 46,
     "metadata": {},
     "output_type": "execute_result"
    }
   ],
   "source": [
    "test_isom_labels(s2,s3)"
   ]
  },
  {
   "cell_type": "code",
   "execution_count": 30,
   "metadata": {},
   "outputs": [],
   "source": [
    "X = XE7.from_label('26b1')"
   ]
  },
  {
   "cell_type": "code",
   "execution_count": 48,
   "metadata": {},
   "outputs": [],
   "source": [
    "C = Curve(X._F)"
   ]
  },
  {
   "cell_type": "code",
   "execution_count": 33,
   "metadata": {},
   "outputs": [
    {
     "data": {
      "text/plain": [
       "21"
      ]
     },
     "execution_count": 33,
     "metadata": {},
     "output_type": "execute_result"
    }
   ],
   "source": [
    "X.K().degree()"
   ]
  },
  {
   "cell_type": "code",
   "execution_count": null,
   "metadata": {},
   "outputs": [],
   "source": []
  },
  {
   "cell_type": "code",
   "execution_count": null,
   "metadata": {},
   "outputs": [],
   "source": []
  },
  {
   "cell_type": "code",
   "execution_count": 49,
   "metadata": {},
   "outputs": [
    {
     "data": {
      "text/plain": [
       "[(0 : 1 : 0)]"
      ]
     },
     "execution_count": 49,
     "metadata": {},
     "output_type": "execute_result"
    }
   ],
   "source": [
    "C.rational_points(bound=20)"
   ]
  },
  {
   "cell_type": "code",
   "execution_count": 11,
   "metadata": {},
   "outputs": [],
   "source": [
    "s76=load(\"s76\")"
   ]
  },
  {
   "cell_type": "code",
   "execution_count": 13,
   "metadata": {},
   "outputs": [
    {
     "name": "stdout",
     "output_type": "stream",
     "text": [
      "No solution over Rational Field\n",
      "No solution over Rational Field\n",
      "No solution over Rational Field\n",
      "No solution over Rational Field\n",
      "No solution over Rational Field\n",
      "No solution over Rational Field\n",
      "No solution over Rational Field\n",
      "No solution over Rational Field\n",
      "No solution over Rational Field\n",
      "No solution over Rational Field\n",
      "No solution over Rational Field\n",
      "No solution over Rational Field\n",
      "No solution over Rational Field\n",
      "No solution over Rational Field\n",
      "No solution over Rational Field\n",
      "No solution over Rational Field\n",
      "No solution over Rational Field\n",
      "No solution over Rational Field\n",
      "No solution over Rational Field\n",
      "No solution over Rational Field\n",
      "No solution over Rational Field\n",
      "No solution over Rational Field\n",
      "No solution over Rational Field\n",
      "No solution over Rational Field\n",
      "No solution over Rational Field\n",
      "No solution over Rational Field\n",
      "No solution over Rational Field\n",
      "No solution over Rational Field\n",
      "No solution over Rational Field\n",
      "No solution over Rational Field\n",
      "No solution over Rational Field\n",
      "No solution over Rational Field\n",
      "No solution over Rational Field\n",
      "No solution over Rational Field\n",
      "No solution over Rational Field\n",
      "No solution over Rational Field\n",
      "No solution over Rational Field\n",
      "No solution over Rational Field\n",
      "No solution over Rational Field\n",
      "No solution over Rational Field\n",
      "No solution over Rational Field\n",
      "No solution over Rational Field\n",
      "No solution over Rational Field\n",
      "No solution over Rational Field\n",
      "No solution over Rational Field\n",
      "No solution over Rational Field\n",
      "No solution over Rational Field\n",
      "No solution over Rational Field\n",
      "Found 1 Rational Field-rational points [[0, 1, 0]]\n",
      "No solution over Rational Field\n",
      "No solution over Rational Field\n",
      "No solution over Rational Field\n",
      "No solution over Rational Field\n",
      "No solution over Rational Field\n",
      "No solution over Rational Field\n",
      "No solution over Rational Field\n",
      "No solution over Rational Field\n",
      "No solution over Rational Field\n",
      "No solution over Rational Field\n",
      "No solution over Rational Field\n",
      "No solution over Rational Field\n",
      "No solution over Rational Field\n",
      "No solution over Rational Field\n",
      "No solution over Rational Field\n",
      "No solution over Rational Field\n",
      "No solution over Rational Field\n",
      "No solution over Rational Field\n",
      "No solution over Rational Field\n",
      "No solution over Rational Field\n",
      "No solution over Rational Field\n",
      "No solution over Rational Field\n",
      "No solution over Rational Field\n",
      "No solution over Rational Field\n",
      "No solution over Rational Field\n",
      "Found 1 Rational Field-rational points [[27, 3969, 1]]\n",
      "No solution over Rational Field\n"
     ]
    },
    {
     "data": {
      "text/plain": [
       "[False,\n",
       " False,\n",
       " False,\n",
       " False,\n",
       " False,\n",
       " False,\n",
       " False,\n",
       " False,\n",
       " False,\n",
       " False,\n",
       " False,\n",
       " False,\n",
       " False,\n",
       " False,\n",
       " False,\n",
       " False,\n",
       " False,\n",
       " False,\n",
       " False,\n",
       " False,\n",
       " False,\n",
       " False,\n",
       " False,\n",
       " False,\n",
       " False,\n",
       " False,\n",
       " False,\n",
       " False,\n",
       " False,\n",
       " False,\n",
       " False,\n",
       " False,\n",
       " False,\n",
       " False,\n",
       " False,\n",
       " False,\n",
       " False,\n",
       " False,\n",
       " False,\n",
       " False,\n",
       " False,\n",
       " False,\n",
       " False,\n",
       " False,\n",
       " False,\n",
       " False,\n",
       " False,\n",
       " False,\n",
       " Elliptic Curve defined by y^2 = x^3 - 3483*x + 121014 over Rational Field,\n",
       " False,\n",
       " False,\n",
       " False,\n",
       " False,\n",
       " False,\n",
       " False,\n",
       " False,\n",
       " False,\n",
       " False,\n",
       " False,\n",
       " False,\n",
       " False,\n",
       " False,\n",
       " False,\n",
       " False,\n",
       " False,\n",
       " False,\n",
       " False,\n",
       " False,\n",
       " False,\n",
       " False,\n",
       " False,\n",
       " False,\n",
       " False,\n",
       " False,\n",
       " Elliptic Curve defined by y^2 = x^3 + 26425331695052338514244661802084269953055772183070773851926370631811072*x - 18681440437119829867852085257494818616755021468070367826831556096961075964238814332617705527538963724632064 over Rational Field,\n",
       " False]"
      ]
     },
     "execution_count": 13,
     "metadata": {},
     "output_type": "execute_result"
    }
   ],
   "source": [
    "[X.lift_j_direct(EllipticCurve(lab).j_invariant()) for lab in s76]"
   ]
  },
  {
   "cell_type": "code",
   "execution_count": 22,
   "metadata": {},
   "outputs": [
    {
     "name": "stdout",
     "output_type": "stream",
     "text": [
      "Base curve 22386w1\n",
      "22386w1\n",
      "Found 1 Rational Field-rational points [[0, 1, 0]]\n",
      "isomorphic to 22386w1\n",
      "No solution over Rational Field\n",
      "37830z1\n",
      "No solution over Rational Field\n",
      "No solution over Rational Field\n",
      "574i1\n",
      "No solution over Rational Field\n",
      "No solution over Rational Field\n",
      "299334e1\n",
      "No solution over Rational Field\n",
      "No solution over Rational Field\n",
      "155298c1\n",
      "No solution over Rational Field\n",
      "No solution over Rational Field\n",
      "324870fz1\n",
      "No solution over Rational Field\n",
      "No solution over Rational Field\n",
      "71630x1\n",
      "No solution over Rational Field\n",
      "No solution over Rational Field\n",
      "32370bg1\n",
      "No solution over Rational Field\n",
      "No solution over Rational Field\n",
      "762g1\n",
      "No solution over Rational Field\n",
      "No solution over Rational Field\n",
      "678d1\n",
      "No solution over Rational Field\n",
      "No solution over Rational Field\n",
      "24882bj1\n",
      "No solution over Rational Field\n",
      "No solution over Rational Field\n",
      "285090ce1\n",
      "No solution over Rational Field\n",
      "No solution over Rational Field\n",
      "196098h1\n",
      "No solution over Rational Field\n",
      "No solution over Rational Field\n",
      "157470b1\n",
      "No solution over Rational Field\n",
      "No solution over Rational Field\n",
      "61446de1\n",
      "No solution over Rational Field\n",
      "No solution over Rational Field\n",
      "63870p1\n",
      "No solution over Rational Field\n",
      "No solution over Rational Field\n",
      "10470d1\n",
      "No solution over Rational Field\n",
      "No solution over Rational Field\n",
      "258f1\n",
      "No solution over Rational Field\n",
      "No solution over Rational Field\n",
      "10766h1\n",
      "No solution over Rational Field\n",
      "No solution over Rational Field\n",
      "343230l1\n",
      "No solution over Rational Field\n",
      "No solution over Rational Field\n",
      "370678l1\n",
      "No solution over Rational Field\n",
      "No solution over Rational Field\n",
      "101478k1\n",
      "No solution over Rational Field\n",
      "No solution over Rational Field\n",
      "43190s1\n",
      "No solution over Rational Field\n",
      "No solution over Rational Field\n",
      "310206q1\n",
      "No solution over Rational Field\n",
      "No solution over Rational Field\n",
      "32370bk1\n",
      "No solution over Rational Field\n",
      "No solution over Rational Field\n",
      "40310bd1\n",
      "No solution over Rational Field\n",
      "No solution over Rational Field\n",
      "42630dl1\n",
      "No solution over Rational Field\n",
      "No solution over Rational Field\n",
      "257010u1\n",
      "No solution over Rational Field\n",
      "No solution over Rational Field\n",
      "64974bx1\n",
      "No solution over Rational Field\n",
      "No solution over Rational Field\n",
      "88270u1\n",
      "No solution over Rational Field\n",
      "No solution over Rational Field\n",
      "251034q1\n",
      "No solution over Rational Field\n",
      "No solution over Rational Field\n",
      "98826t1\n",
      "No solution over Rational Field\n",
      "No solution over Rational Field\n",
      "20622k1\n",
      "No solution over Rational Field\n",
      "No solution over Rational Field\n",
      "211582b1\n",
      "No solution over Rational Field\n",
      "No solution over Rational Field\n",
      "1230k1\n",
      "No solution over Rational Field\n",
      "No solution over Rational Field\n",
      "15918w1\n",
      "No solution over Rational Field\n",
      "No solution over Rational Field\n",
      "226954a1\n",
      "No solution over Rational Field\n",
      "No solution over Rational Field\n",
      "68354i1\n",
      "No solution over Rational Field\n",
      "No solution over Rational Field\n",
      "294438h1\n",
      "No solution over Rational Field\n",
      "No solution over Rational Field\n",
      "365690n1\n",
      "No solution over Rational Field\n",
      "No solution over Rational Field\n",
      "69366w1\n",
      "No solution over Rational Field\n",
      "No solution over Rational Field\n",
      "5010h1\n",
      "No solution over Rational Field\n",
      "No solution over Rational Field\n",
      "2110h1\n",
      "No solution over Rational Field\n",
      "No solution over Rational Field\n",
      "20510e1\n",
      "No solution over Rational Field\n",
      "No solution over Rational Field\n",
      "322530bb1\n",
      "No solution over Rational Field\n",
      "No solution over Rational Field\n",
      "91358e1\n",
      "No solution over Rational Field\n",
      "No solution over Rational Field\n",
      "237910d1\n",
      "No solution over Rational Field\n",
      "No solution over Rational Field\n",
      "294b1\n",
      "No solution over Rational Field\n",
      "No solution over Rational Field\n",
      "26b1\n",
      "No solution over Rational Field\n",
      "No solution over Rational Field\n",
      "346710cm1\n",
      "No solution over Rational Field\n",
      "No solution over Rational Field\n",
      "339762m1\n",
      "No solution over Rational Field\n",
      "No solution over Rational Field\n",
      "52878f1\n",
      "No solution over Rational Field\n",
      "No solution over Rational Field\n",
      "379470cd1\n",
      "No solution over Rational Field\n",
      "No solution over Rational Field\n",
      "164346i1\n",
      "No solution over Rational Field\n",
      "No solution over Rational Field\n",
      "858k1\n",
      "No solution over Rational Field\n",
      "No solution over Rational Field\n",
      "193830f1\n",
      "No solution over Rational Field\n",
      "No solution over Rational Field\n",
      "174b1\n",
      "No solution over Rational Field\n",
      "No solution over Rational Field\n",
      "105222k1\n",
      "No solution over Rational Field\n",
      "No solution over Rational Field\n",
      "490k1\n",
      "No solution over Rational Field\n",
      "No solution over Rational Field\n",
      "19110db1\n",
      "No solution over Rational Field\n",
      "No solution over Rational Field\n",
      "367770bl1\n",
      "No solution over Rational Field\n",
      "No solution over Rational Field\n",
      "42978r1\n",
      "No solution over Rational Field\n",
      "No solution over Rational Field\n",
      "157146b1\n",
      "No solution over Rational Field\n",
      "No solution over Rational Field\n",
      "25242f1\n",
      "No solution over Rational Field\n",
      "No solution over Rational Field\n",
      "7530l1\n",
      "No solution over Rational Field\n",
      "No solution over Rational Field\n",
      "71058l1\n",
      "No solution over Rational Field\n",
      "No solution over Rational Field\n",
      "42042dk1\n",
      "No solution over Rational Field\n",
      "No solution over Rational Field\n",
      "229242b1\n",
      "No solution over Rational Field\n",
      "No solution over Rational Field\n",
      "6690j1\n",
      "No solution over Rational Field\n",
      "No solution over Rational Field\n",
      "27690bc1\n",
      "No solution over Rational Field\n",
      "No solution over Rational Field\n",
      "245938e1\n",
      "No solution over Rational Field\n",
      "No solution over Rational Field\n",
      "46090p1\n",
      "No solution over Rational Field\n",
      "No solution over Rational Field\n",
      "122010do1\n",
      "No solution over Rational Field\n",
      "No solution over Rational Field\n",
      "4730k1\n",
      "No solution over Rational Field\n",
      "No solution over Rational Field\n",
      "546f1\n",
      "No solution over Rational Field\n",
      "No solution over Rational Field\n",
      "6378c1\n",
      "No solution over Rational Field\n",
      "No solution over Rational Field\n"
     ]
    }
   ],
   "source": [
    "E0 = EllipticCurve(s76[0])\n",
    "print(\"Base curve {}\".format(E0.label()))\n",
    "X = XE7.from_elliptic_curve(E0)\n",
    "for lab in s76:\n",
    "    print(lab)\n",
    "    E = EllipticCurve(lab)\n",
    "    C = E.isogeny_class()\n",
    "    for E1 in C:\n",
    "        res = X.lift_j_direct(E1.j_invariant(), verbose=True)\n",
    "        if res:\n",
    "            print(\"isomorphic to {}\".format(E1.label()))\n",
    "                "
   ]
  },
  {
   "cell_type": "code",
   "execution_count": 13,
   "metadata": {},
   "outputs": [
    {
     "name": "stdout",
     "output_type": "stream",
     "text": [
      "E has 1 2-isogenous curves\n",
      "3 intersection points with conic -27*x0^2 + 3*x1^2 - 54*x1*x2=0 are [[1, 3, 0], [1, -3, 0], [0, 0, 1]]\n",
      "1 of those are not on z=0: [[0, 0, 1]]\n",
      "1 2-isogenous curves with j-invariant(s) [1728]\n",
      "1 special points [[0, 0, 1]] with j-invariant(s) [1728]\n",
      "j2P = {1728: [0, 0, 1], 1372960580073984/235260548044817: [-9, -27, 0]}\n",
      "j2C = {1728: Elliptic Curve defined by y^2 = x^3 + 108*x over Rational Field, 1372960580073984/235260548044817: Elliptic Curve defined by y^2 = x^3 + 250074*x + 826863282 over Rational Field}\n",
      "P2C = {(-9, -27, 0): Elliptic Curve defined by y^2 = x^3 + 250074*x + 826863282 over Rational Field, (0, 0, 1): Elliptic Curve defined by y^2 = x^3 + 108*x over Rational Field, (9, -27, 0): Elliptic Curve defined by y^2 = x^3 + 250074*x + 826863282 over Rational Field}\n"
     ]
    }
   ],
   "source": [
    "X = XE7.from_label('576g1')"
   ]
  },
  {
   "cell_type": "code",
   "execution_count": 3,
   "metadata": {},
   "outputs": [
    {
     "data": {
      "text/plain": [
       "-27*x0^4 + 3*x0^2*x1^2 + 2*x1^3*x2 - 2187*x0^2*x2^2 - 81*x1^2*x2^2 + 1458*x1*x2^3"
      ]
     },
     "execution_count": 3,
     "metadata": {},
     "output_type": "execute_result"
    }
   ],
   "source": [
    "X.F()"
   ]
  },
  {
   "cell_type": "code",
   "execution_count": 5,
   "metadata": {},
   "outputs": [
    {
     "data": {
      "text/plain": [
       "(-3) * (9*x0^2 - x1^2 + 18*x1*x2)"
      ]
     },
     "execution_count": 5,
     "metadata": {},
     "output_type": "execute_result"
    }
   ],
   "source": [
    "X.V().factor()"
   ]
  },
  {
   "cell_type": "code",
   "execution_count": 6,
   "metadata": {},
   "outputs": [
    {
     "data": {
      "text/plain": [
       "[[1, 3, 0], [1, -3, 0], [0, 0, 1]]"
      ]
     },
     "execution_count": 6,
     "metadata": {},
     "output_type": "execute_result"
    }
   ],
   "source": [
    "intersection_points(X.F(),X.V())"
   ]
  },
  {
   "cell_type": "code",
   "execution_count": 24,
   "metadata": {},
   "outputs": [
    {
     "data": {
      "text/plain": [
       "1"
      ]
     },
     "execution_count": 24,
     "metadata": {},
     "output_type": "execute_result"
    }
   ],
   "source": [
    "X.Eab.two_torsion_rank()"
   ]
  },
  {
   "cell_type": "code",
   "execution_count": 7,
   "metadata": {},
   "outputs": [
    {
     "data": {
      "text/plain": [
       "1"
      ]
     },
     "execution_count": 7,
     "metadata": {},
     "output_type": "execute_result"
    }
   ],
   "source": [
    "E1 = EllipticCurve('576g1')\n",
    "E1.two_torsion_rank()"
   ]
  },
  {
   "cell_type": "code",
   "execution_count": 8,
   "metadata": {},
   "outputs": [
    {
     "data": {
      "text/plain": [
       "1"
      ]
     },
     "execution_count": 8,
     "metadata": {},
     "output_type": "execute_result"
    }
   ],
   "source": [
    "E2 = EllipticCurve('576g2')\n",
    "E2.two_torsion_rank()"
   ]
  },
  {
   "cell_type": "code",
   "execution_count": 14,
   "metadata": {},
   "outputs": [
    {
     "name": "stdout",
     "output_type": "stream",
     "text": [
      "E has 1 2-isogenous curves\n",
      "3 intersection points with conic 108*x0^2 + 3*x1^2 + 216*x1*x2=0 are [[18, 0, 1], [-18, 0, 1], [0, 0, 1]]\n",
      "3 of those are not on z=0: [[18, 0, 1], [-18, 0, 1], [0, 0, 1]]\n",
      "curve 576g2 has 1 2-isogenies but there are 3 intersections of X_E(7) and V=0: [[18, 0, 1], [-18, 0, 1], [0, 0, 1]]\n",
      "I2js = [1728] but P2js = [1372960580073984/235260548044817, 1372960580073984/235260548044817, 1728]\n",
      "1 2-isogenous curves with j-invariant(s) [1728]\n",
      "3 special points [[18, 0, 1], [-18, 0, 1], [0, 0, 1]] with j-invariant(s) [1372960580073984/235260548044817, 1372960580073984/235260548044817, 1728]\n"
     ]
    },
    {
     "ename": "ValueError",
     "evalue": "1372960580073984/235260548044817 is not in list",
     "output_type": "error",
     "traceback": [
      "\u001b[0;31m---------------------------------------------------------------------------\u001b[0m",
      "\u001b[0;31mValueError\u001b[0m                                Traceback (most recent call last)",
      "\u001b[0;32m<ipython-input-14-65e32c2f83e9>\u001b[0m in \u001b[0;36m<module>\u001b[0;34m()\u001b[0m\n\u001b[0;32m----> 1\u001b[0;31m \u001b[0mX2\u001b[0m \u001b[0;34m=\u001b[0m \u001b[0mXE7\u001b[0m\u001b[0;34m.\u001b[0m\u001b[0mfrom_label\u001b[0m\u001b[0;34m(\u001b[0m\u001b[0;34m'576g2'\u001b[0m\u001b[0;34m)\u001b[0m\u001b[0;34m\u001b[0m\u001b[0m\n\u001b[0m",
      "\u001b[0;32m/home/jec/sage-scripts/XE7.py\u001b[0m in \u001b[0;36mfrom_label\u001b[0;34m(lab)\u001b[0m\n\u001b[1;32m    140\u001b[0m     \u001b[0;34m@\u001b[0m\u001b[0mstaticmethod\u001b[0m\u001b[0;34m\u001b[0m\u001b[0m\n\u001b[1;32m    141\u001b[0m     \u001b[0;32mdef\u001b[0m \u001b[0mfrom_label\u001b[0m\u001b[0;34m(\u001b[0m\u001b[0mlab\u001b[0m\u001b[0;34m)\u001b[0m\u001b[0;34m:\u001b[0m\u001b[0;34m\u001b[0m\u001b[0m\n\u001b[0;32m--> 142\u001b[0;31m         \u001b[0;32mreturn\u001b[0m \u001b[0mXE7\u001b[0m\u001b[0;34m.\u001b[0m\u001b[0mfrom_elliptic_curve\u001b[0m\u001b[0;34m(\u001b[0m\u001b[0mEllipticCurve\u001b[0m\u001b[0;34m(\u001b[0m\u001b[0mlab\u001b[0m\u001b[0;34m)\u001b[0m\u001b[0;34m)\u001b[0m\u001b[0;34m\u001b[0m\u001b[0m\n\u001b[0m\u001b[1;32m    143\u001b[0m \u001b[0;34m\u001b[0m\u001b[0m\n\u001b[1;32m    144\u001b[0m     \u001b[0;32mdef\u001b[0m \u001b[0mF\u001b[0m\u001b[0;34m(\u001b[0m\u001b[0mself\u001b[0m\u001b[0;34m)\u001b[0m\u001b[0;34m:\u001b[0m\u001b[0;34m\u001b[0m\u001b[0m\n",
      "\u001b[0;32m/home/jec/sage-scripts/XE7.py\u001b[0m in \u001b[0;36mfrom_elliptic_curve\u001b[0;34m(E)\u001b[0m\n\u001b[1;32m    136\u001b[0m     \u001b[0;32mdef\u001b[0m \u001b[0mfrom_elliptic_curve\u001b[0m\u001b[0;34m(\u001b[0m\u001b[0mE\u001b[0m\u001b[0;34m)\u001b[0m\u001b[0;34m:\u001b[0m\u001b[0;34m\u001b[0m\u001b[0m\n\u001b[1;32m    137\u001b[0m         \u001b[0m_\u001b[0m\u001b[0;34m,\u001b[0m\u001b[0m_\u001b[0m\u001b[0;34m,\u001b[0m\u001b[0m_\u001b[0m\u001b[0;34m,\u001b[0m\u001b[0ma\u001b[0m\u001b[0;34m,\u001b[0m\u001b[0mb\u001b[0m \u001b[0;34m=\u001b[0m \u001b[0mE\u001b[0m\u001b[0;34m.\u001b[0m\u001b[0mshort_weierstrass_model\u001b[0m\u001b[0;34m(\u001b[0m\u001b[0;34m)\u001b[0m\u001b[0;34m.\u001b[0m\u001b[0mainvs\u001b[0m\u001b[0;34m(\u001b[0m\u001b[0;34m)\u001b[0m\u001b[0;34m\u001b[0m\u001b[0m\n\u001b[0;32m--> 138\u001b[0;31m         \u001b[0;32mreturn\u001b[0m \u001b[0mXE7\u001b[0m\u001b[0;34m(\u001b[0m\u001b[0ma\u001b[0m\u001b[0;34m,\u001b[0m\u001b[0mb\u001b[0m\u001b[0;34m)\u001b[0m\u001b[0;34m\u001b[0m\u001b[0m\n\u001b[0m\u001b[1;32m    139\u001b[0m \u001b[0;34m\u001b[0m\u001b[0m\n\u001b[1;32m    140\u001b[0m     \u001b[0;34m@\u001b[0m\u001b[0mstaticmethod\u001b[0m\u001b[0;34m\u001b[0m\u001b[0m\n",
      "\u001b[0;32m/home/jec/sage-scripts/XE7.py\u001b[0m in \u001b[0;36m__init__\u001b[0;34m(self, a, b)\u001b[0m\n\u001b[1;32m    113\u001b[0m             \u001b[0;32mfor\u001b[0m \u001b[0mP\u001b[0m\u001b[0;34m,\u001b[0m\u001b[0mj\u001b[0m \u001b[0;32min\u001b[0m \u001b[0mzip\u001b[0m\u001b[0;34m(\u001b[0m\u001b[0mI2points\u001b[0m\u001b[0;34m,\u001b[0m\u001b[0mP2js\u001b[0m\u001b[0;34m)\u001b[0m\u001b[0;34m:\u001b[0m\u001b[0;34m\u001b[0m\u001b[0m\n\u001b[1;32m    114\u001b[0m                 \u001b[0mself\u001b[0m\u001b[0;34m.\u001b[0m\u001b[0mj2P\u001b[0m\u001b[0;34m[\u001b[0m\u001b[0mj\u001b[0m\u001b[0;34m]\u001b[0m \u001b[0;34m=\u001b[0m \u001b[0mP\u001b[0m\u001b[0;34m\u001b[0m\u001b[0m\n\u001b[0;32m--> 115\u001b[0;31m                 \u001b[0mself\u001b[0m\u001b[0;34m.\u001b[0m\u001b[0mj2C\u001b[0m\u001b[0;34m[\u001b[0m\u001b[0mj\u001b[0m\u001b[0;34m]\u001b[0m \u001b[0;34m=\u001b[0m \u001b[0mself\u001b[0m\u001b[0;34m.\u001b[0m\u001b[0mP2C\u001b[0m\u001b[0;34m[\u001b[0m\u001b[0mtuple\u001b[0m\u001b[0;34m(\u001b[0m\u001b[0mP\u001b[0m\u001b[0;34m)\u001b[0m\u001b[0;34m]\u001b[0m \u001b[0;34m=\u001b[0m \u001b[0mE2list\u001b[0m\u001b[0;34m[\u001b[0m\u001b[0mI2js\u001b[0m\u001b[0;34m.\u001b[0m\u001b[0mindex\u001b[0m\u001b[0;34m(\u001b[0m\u001b[0mj\u001b[0m\u001b[0;34m)\u001b[0m\u001b[0;34m]\u001b[0m\u001b[0;34m\u001b[0m\u001b[0m\n\u001b[0m\u001b[1;32m    116\u001b[0m         \u001b[0;32mif\u001b[0m \u001b[0ma\u001b[0m\u001b[0;34m==\u001b[0m\u001b[0;36m0\u001b[0m\u001b[0;34m:\u001b[0m\u001b[0;34m\u001b[0m\u001b[0m\n\u001b[1;32m    117\u001b[0m             \u001b[0mP\u001b[0m \u001b[0;34m=\u001b[0m \u001b[0;34m[\u001b[0m\u001b[0;36m1\u001b[0m\u001b[0;34m,\u001b[0m\u001b[0;36m0\u001b[0m\u001b[0;34m,\u001b[0m\u001b[0;36m0\u001b[0m\u001b[0;34m]\u001b[0m\u001b[0;34m\u001b[0m\u001b[0m\n",
      "\u001b[0;31mValueError\u001b[0m: 1372960580073984/235260548044817 is not in list"
     ]
    }
   ],
   "source": [
    "X2 = XE7.from_label('576g2')"
   ]
  },
  {
   "cell_type": "code",
   "execution_count": 17,
   "metadata": {},
   "outputs": [
    {
     "data": {
      "text/plain": [
       "108*x0^4 + 3*x0^2*x1^2 + 2*x1^3*x2 - 34992*x0^2*x2^2 + 324*x1^2*x2^2 + 23328*x1*x2^3"
      ]
     },
     "execution_count": 17,
     "metadata": {},
     "output_type": "execute_result"
    }
   ],
   "source": [
    "F2=F_ab(108,0)\n",
    "F2.factor()"
   ]
  },
  {
   "cell_type": "code",
   "execution_count": 18,
   "metadata": {},
   "outputs": [],
   "source": [
    "x0,x1,x2 = F2.parent().gens()"
   ]
  },
  {
   "cell_type": "code",
   "execution_count": 20,
   "metadata": {},
   "outputs": [],
   "source": [
    "V2 = 108*x0^2+216*x1*x2+3*x1^2"
   ]
  },
  {
   "cell_type": "code",
   "execution_count": 55,
   "metadata": {},
   "outputs": [
    {
     "name": "stdout",
     "output_type": "stream",
     "text": [
      "resultant = 8707129344*w^6 + 3761479876608*w^5 + 609359740010496*w^4 + 43873901280755712*w^3 + 1184595334580404224*w^2 = 3^12 * 2^14 * w^2 * (w + 108)^4\n",
      "root r = 0\n",
      "root s of 108*w^2 = 2^2 * 3^3 * w^2 is 0\n",
      "adding intersection point [0,0,1]\n",
      "root r = -108\n"
     ]
    },
    {
     "data": {
      "text/plain": [
       "[[0, 0, 1]]"
      ]
     },
     "execution_count": 55,
     "metadata": {},
     "output_type": "execute_result"
    }
   ],
   "source": [
    "intersection_points(F2,V2)"
   ]
  },
  {
   "cell_type": "code",
   "execution_count": 24,
   "metadata": {},
   "outputs": [
    {
     "data": {
      "text/plain": [
       "Multivariate Polynomial Ring in u, v over Rational Field"
      ]
     },
     "execution_count": 24,
     "metadata": {},
     "output_type": "execute_result"
    }
   ],
   "source": [
    "R2 = PolynomialRing(QQ,2,'uv')\n",
    "u,v = R2.gens()\n",
    "R2"
   ]
  },
  {
   "cell_type": "code",
   "execution_count": 48,
   "metadata": {},
   "outputs": [],
   "source": [
    "f = F2(u,v,1)\n",
    "g = V2(u,v,1)"
   ]
  },
  {
   "cell_type": "code",
   "execution_count": 49,
   "metadata": {},
   "outputs": [
    {
     "data": {
      "text/plain": [
       "(8707129344) * w^2 * (w + 108)^4"
      ]
     },
     "execution_count": 49,
     "metadata": {},
     "output_type": "execute_result"
    }
   ],
   "source": [
    "f.resultant(g)([1,w]).factor()"
   ]
  },
  {
   "cell_type": "code",
   "execution_count": 30,
   "metadata": {},
   "outputs": [],
   "source": [
    "w = polygen(QQ,'w')"
   ]
  },
  {
   "cell_type": "code",
   "execution_count": 50,
   "metadata": {},
   "outputs": [
    {
     "data": {
      "text/plain": [
       "(0, 536544)"
      ]
     },
     "execution_count": 50,
     "metadata": {},
     "output_type": "execute_result"
    }
   ],
   "source": [
    "F2([18,0,1]), F2([0,18,1])"
   ]
  },
  {
   "cell_type": "code",
   "execution_count": 51,
   "metadata": {},
   "outputs": [
    {
     "data": {
      "text/plain": [
       "(34992, 4860)"
      ]
     },
     "execution_count": 51,
     "metadata": {},
     "output_type": "execute_result"
    }
   ],
   "source": [
    "V2([18,0,1]), V2([0,18,1])"
   ]
  },
  {
   "cell_type": "code",
   "execution_count": 58,
   "metadata": {},
   "outputs": [
    {
     "name": "stdout",
     "output_type": "stream",
     "text": [
      "19883 irreducible sets, 255 reducible sets\n"
     ]
    }
   ],
   "source": [
    "hashtab7_30 = load('hashtab7_30')\n",
    "isom_sets = [s for s in hashtab7_30.values() if len(s)>1]\n",
    "isom_sets_red = []\n",
    "isom_sets_irred = []\n",
    "for s in isom_sets:\n",
    "    isom_sets_irred.append(s) if test_irred(s) else isom_sets_red.append(s)\n",
    "print(\"{} irreducible sets, {} reducible sets\".format(len(isom_sets_irred),len(isom_sets_red)))"
   ]
  },
  {
   "cell_type": "code",
   "execution_count": 62,
   "metadata": {},
   "outputs": [],
   "source": [
    "def which_set(c):\n",
    "    return next((i,s) for i,s in enumerate(isom_sets_irred) if c in s)"
   ]
  },
  {
   "cell_type": "code",
   "execution_count": 89,
   "metadata": {},
   "outputs": [
    {
     "data": {
      "text/plain": [
       "(13769, ['11088bp1', '255024dd1'])"
      ]
     },
     "execution_count": 89,
     "metadata": {},
     "output_type": "execute_result"
    }
   ],
   "source": [
    "which_set('11088bp1')"
   ]
  },
  {
   "cell_type": "code",
   "execution_count": 92,
   "metadata": {},
   "outputs": [
    {
     "name": "stdout",
     "output_type": "stream",
     "text": [
      "Set #11 = ['69440du1', '69440dv1']\n",
      "base curve 69440du1\n",
      "[['69440du1', '69440dv1'], []]\n",
      "Set #25 = ['204309p1', '364203v1']\n",
      "base curve 204309p1\n",
      "[['204309p1'], ['364203v1']]\n",
      "Set #1853 = ['5760o1', '282240bv1']\n",
      "base curve 5760o1\n",
      "[['5760o1', '5760o2', '282240bv1'], []]\n",
      "Set #1872 = ['576g1', '65088cu1', '65088cv1']\n",
      "base curve 576g2\n",
      "[['576g2', '576g1', '65088cu1', '65088cv1'], []]\n",
      "Set #4259 = ['156800cn1', '156800cp1']\n",
      "base curve 156800cn1\n",
      "[['156800cn1', '156800cn2', '156800cp1'], []]\n",
      "Set #8944 = ['141120na1', '141120ni1']\n",
      "base curve 141120na1\n",
      "[['141120na1', '141120na2'], ['141120ni1']]\n",
      "Set #8951 = ['9702l1', '223146eh1']\n",
      "base curve 9702l1\n",
      "[['9702l1', '223146eh1'], ['9702l2']]\n",
      "Set #8975 = ['58800cn1', '58800co1']\n",
      "base curve 58800cn1\n",
      "[['58800cn1', '58800co1'], []]\n",
      "Set #10700 = ['11034d1', '319986e1']\n",
      "base curve 11034d1\n",
      "[['11034d1', '319986e1'], []]\n",
      "Set #10702 = ['75712bl1', '227136eo1']\n",
      "base curve 75712bl1\n",
      "[['75712bl1'], ['227136eo1']]\n",
      "Set #10704 = ['38720bw1', '271040ez1']\n",
      "base curve 38720bw1\n",
      "[['38720bw1', '271040ez1'], []]\n",
      "Set #10705 = ['121275eg1', '121275eh1']\n",
      "base curve 121275eg1\n",
      "[['121275eg1', '121275eh1', '121275eh2'], []]\n",
      "Set #10716 = ['5360f1', '7504g1']\n",
      "base curve 5360f1\n",
      "[['5360f1', '7504g1'], []]\n",
      "Set #11130 = ['288e1', '32544bd1', '32544be1']\n",
      "base curve 288e1\n",
      "[['288e1', '288e2', '32544bd1', '32544be1'], []]\n",
      "Set #11198 = ['5760bt1', '282240il1']\n",
      "base curve 5760bt2\n",
      "[['5760bt2', '5760bt1', '282240il1'], []]\n",
      "Set #11747 = ['156800bx1', '156800cr1']\n",
      "base curve 156800bx2\n",
      "[['156800bx2', '156800bx1', '156800cr1'], []]\n",
      "Set #12743 = ['288a1', '32544b1', '32544c1']\n",
      "base curve 288a1\n",
      "[['288a1', '288a2', '32544b1', '32544c1'], []]\n",
      "Set #13609 = ['3200r1', '156800cf1']\n",
      "base curve 3200r2\n",
      "[['3200r2', '3200r1', '156800cf1'], []]\n"
     ]
    }
   ],
   "source": [
    "for c in ['69440du1', '204309p1', '5760o1', '576g1', '156800cn1', '141120na1', '9702l1', '58800cn1', '11034d1',\n",
    "          '75712bl1', '38720bw1', '121275eg1', '5360f1', '288e1', '5760bt1', '156800bx1', '288a1', '3200r1']:\n",
    "    i,s = which_set(c)\n",
    "    print(\"Set #{} = {}\".format(i,s))\n",
    "    print(test7iso(s))"
   ]
  },
  {
   "cell_type": "code",
   "execution_count": 115,
   "metadata": {},
   "outputs": [
    {
     "name": "stdout",
     "output_type": "stream",
     "text": [
      "Elliptic Curve defined by y^2 + x*y = x^3 - x^2 - 2*x - 1 over Rational Field\n",
      "j'=16581375 is a special value!\n"
     ]
    },
    {
     "data": {
      "text/plain": [
       "Elliptic Curve defined by y^2 + x*y = x^3 + (-1)*x^2 + (-37)*x + (-78) over Number Field in r7 with defining polynomial x^2 + 7"
      ]
     },
     "execution_count": 115,
     "metadata": {},
     "output_type": "execute_result"
    }
   ],
   "source": [
    "E = EllipticCurve(j=-3375)\n",
    "print(E)\n",
    "K.<r7> = QuadraticField(-7)\n",
    "EK = E.change_ring(K)\n",
    "X = XE7.from_elliptic_curve(EK)\n",
    "X.lift_j_direct(16581375)"
   ]
  },
  {
   "cell_type": "code",
   "execution_count": 116,
   "metadata": {},
   "outputs": [
    {
     "data": {
      "text/plain": [
       "[16581375]"
      ]
     },
     "execution_count": 116,
     "metadata": {},
     "output_type": "execute_result"
    }
   ],
   "source": [
    "[phi.codomain().j_invariant() for phi in E.isogenies_prime_degree(2)]"
   ]
  },
  {
   "cell_type": "code",
   "execution_count": 117,
   "metadata": {},
   "outputs": [
    {
     "data": {
      "text/plain": [
       "{-3375: [9/2*r7 - 63/2, -567/2*r7 + 1701/2, 1], 16581375: [63, 3969, 1]}"
      ]
     },
     "execution_count": 117,
     "metadata": {},
     "output_type": "execute_result"
    }
   ],
   "source": [
    "X.j2P"
   ]
  },
  {
   "cell_type": "code",
   "execution_count": 118,
   "metadata": {},
   "outputs": [
    {
     "data": {
      "text/plain": [
       "{-3375: Elliptic Curve defined by y^2 + x*y = x^3 + (-1)*x^2 + (-2)*x + (-1) over Number Field in r7 with defining polynomial x^2 + 7,\n",
       " 16581375: Elliptic Curve defined by y^2 + x*y = x^3 + (-1)*x^2 + (-37)*x + (-78) over Number Field in r7 with defining polynomial x^2 + 7}"
      ]
     },
     "execution_count": 118,
     "metadata": {},
     "output_type": "execute_result"
    }
   ],
   "source": [
    "X.j2C"
   ]
  },
  {
   "cell_type": "code",
   "execution_count": 119,
   "metadata": {},
   "outputs": [
    {
     "data": {
      "text/plain": [
       "[[63, 3969, 1],\n",
       " [-9/2*r7 - 63/2, 567/2*r7 + 1701/2, 1],\n",
       " [9/2*r7 - 63/2, -567/2*r7 + 1701/2, 1]]"
      ]
     },
     "execution_count": 119,
     "metadata": {},
     "output_type": "execute_result"
    }
   ],
   "source": [
    "intersection_points(X.F(),X.V())"
   ]
  },
  {
   "cell_type": "code",
   "execution_count": 120,
   "metadata": {},
   "outputs": [
    {
     "data": {
      "text/plain": [
       "[Isogeny of degree 2 from Elliptic Curve defined by y^2 + x*y = x^3 + (-1)*x^2 + (-2)*x + (-1) over Number Field in r7 with defining polynomial x^2 + 7 to Elliptic Curve defined by y^2 + x*y = x^3 + (-1)*x^2 + (-2)*x + (-1) over Number Field in r7 with defining polynomial x^2 + 7,\n",
       " Isogeny of degree 2 from Elliptic Curve defined by y^2 + x*y = x^3 + (-1)*x^2 + (-2)*x + (-1) over Number Field in r7 with defining polynomial x^2 + 7 to Elliptic Curve defined by y^2 + x*y = x^3 + (-1)*x^2 + (-2)*x + (-1) over Number Field in r7 with defining polynomial x^2 + 7,\n",
       " Isogeny of degree 2 from Elliptic Curve defined by y^2 + x*y = x^3 + (-1)*x^2 + (-2)*x + (-1) over Number Field in r7 with defining polynomial x^2 + 7 to Elliptic Curve defined by y^2 + x*y = x^3 + (-1)*x^2 + (-37)*x + (-78) over Number Field in r7 with defining polynomial x^2 + 7]"
      ]
     },
     "execution_count": 120,
     "metadata": {},
     "output_type": "execute_result"
    }
   ],
   "source": [
    "EK.isogenies_prime_degree(2)"
   ]
  },
  {
   "cell_type": "code",
   "execution_count": 124,
   "metadata": {},
   "outputs": [],
   "source": [
    "E = EllipticCurve([0,1])\n",
    "X = XE7.from_elliptic_curve(E)"
   ]
  },
  {
   "cell_type": "code",
   "execution_count": 125,
   "metadata": {},
   "outputs": [
    {
     "data": {
      "text/plain": [
       "{0: Elliptic Curve defined by y^2 = x^3 - 28 over Rational Field,\n",
       " 54000: Elliptic Curve defined by y^2 = x^3 - 15*x + 22 over Rational Field}"
      ]
     },
     "execution_count": 125,
     "metadata": {},
     "output_type": "execute_result"
    }
   ],
   "source": [
    "X.j2C"
   ]
  },
  {
   "cell_type": "code",
   "execution_count": 126,
   "metadata": {},
   "outputs": [
    {
     "data": {
      "text/plain": [
       "{0: [1, 0, 0], 54000: [-1, 1, 1]}"
      ]
     },
     "execution_count": 126,
     "metadata": {},
     "output_type": "execute_result"
    }
   ],
   "source": [
    "X.j2P"
   ]
  },
  {
   "cell_type": "code",
   "execution_count": 127,
   "metadata": {},
   "outputs": [
    {
     "data": {
      "text/plain": [
       "[[1, 0, 0], [-1, 1, 1]]"
      ]
     },
     "execution_count": 127,
     "metadata": {},
     "output_type": "execute_result"
    }
   ],
   "source": [
    "intersection_points(X.F(),X.V())"
   ]
  },
  {
   "cell_type": "code",
   "execution_count": 165,
   "metadata": {},
   "outputs": [
    {
     "data": {
      "text/plain": [
       "Elliptic Curve defined by y^2 = x^3 - 2835*x - 71442 over Rational Field"
      ]
     },
     "execution_count": 165,
     "metadata": {},
     "output_type": "execute_result"
    }
   ],
   "source": [
    "E = EllipticCurve(j=-3375)\n",
    "E.short_weierstrass_model()"
   ]
  },
  {
   "cell_type": "code",
   "execution_count": 166,
   "metadata": {},
   "outputs": [],
   "source": [
    "K.<r7> = QuadraticField(-7)\n",
    "EK = E.change_ring(K)\n",
    "X = XE7.from_elliptic_curve(EK)"
   ]
  },
  {
   "cell_type": "code",
   "execution_count": 167,
   "metadata": {},
   "outputs": [
    {
     "data": {
      "text/plain": [
       "{(-9/2*r7 - 63/2,\n",
       "  567/2*r7 + 1701/2,\n",
       "  1): Elliptic Curve defined by y^2 + x*y = x^3 + (-1)*x^2 + (-2)*x + (-1) over Number Field in r7 with defining polynomial x^2 + 7,\n",
       " (9/2*r7 - 63/2,\n",
       "  -567/2*r7 + 1701/2,\n",
       "  1): Elliptic Curve defined by y^2 + x*y = x^3 + (-1)*x^2 + (-2)*x + (-1) over Number Field in r7 with defining polynomial x^2 + 7,\n",
       " (0,\n",
       "  1,\n",
       "  0): Elliptic Curve defined by y^2 = x^3 + (-2835)*x + (-71442) over Number Field in r7 with defining polynomial x^2 + 7,\n",
       " (63,\n",
       "  3969,\n",
       "  1): Elliptic Curve defined by y^2 + x*y = x^3 + (-1)*x^2 + (-37)*x + (-78) over Number Field in r7 with defining polynomial x^2 + 7}"
      ]
     },
     "execution_count": 167,
     "metadata": {},
     "output_type": "execute_result"
    }
   ],
   "source": [
    "X.P2C"
   ]
  },
  {
   "cell_type": "code",
   "execution_count": 170,
   "metadata": {},
   "outputs": [
    {
     "data": {
      "text/plain": [
       "[((63, 3969, 1), 16581375),\n",
       " ((0, 1, 0), -3375),\n",
       " ((9/2*r7 - 63/2, -567/2*r7 + 1701/2, 1), -3375),\n",
       " ((-9/2*r7 - 63/2, 567/2*r7 + 1701/2, 1), -3375)]"
      ]
     },
     "execution_count": 170,
     "metadata": {},
     "output_type": "execute_result"
    }
   ],
   "source": [
    "[(k, X.P2C[k].j_invariant()) for k in (X.P2C).keys()]"
   ]
  },
  {
   "cell_type": "code",
   "execution_count": 161,
   "metadata": {},
   "outputs": [
    {
     "data": {
      "text/plain": [
       "[(63, 3969, 1),\n",
       " (0, 1, 0),\n",
       " (9/2*r7 - 63/2, -567/2*r7 + 1701/2, 1),\n",
       " (-9/2*r7 - 63/2, 567/2*r7 + 1701/2, 1)]"
      ]
     },
     "execution_count": 161,
     "metadata": {},
     "output_type": "execute_result"
    }
   ],
   "source": [
    "(X.P2C).keys()"
   ]
  },
  {
   "cell_type": "code",
   "execution_count": 171,
   "metadata": {},
   "outputs": [],
   "source": [
    "E1, E2, E3 = [phi.codomain() for phi in EK.isogenies_prime_degree(2)]"
   ]
  },
  {
   "cell_type": "code",
   "execution_count": 173,
   "metadata": {},
   "outputs": [
    {
     "data": {
      "text/plain": [
       "[True, True, False]"
      ]
     },
     "execution_count": 173,
     "metadata": {},
     "output_type": "execute_result"
    }
   ],
   "source": [
    "[EK.is_isomorphic(Ei) for Ei in [E1,E2,E3]]"
   ]
  },
  {
   "cell_type": "markdown",
   "metadata": {},
   "source": [
    "## The following should be True by results of Nuno:\n",
    "\"these curves satisfy that they have potentially good reduction with inertia at isomorphic to quaternions. Since 2 is a square mod 7, from theorem 8 here https://homepages.warwick.ac.uk/staff/Nuno.Freitas/preprint4.pdf it follows the isomorphism is sympectic. \""
   ]
  },
  {
   "cell_type": "code",
   "execution_count": 13,
   "metadata": {},
   "outputs": [
    {
     "data": {
      "text/plain": [
       "True"
      ]
     },
     "execution_count": 13,
     "metadata": {},
     "output_type": "execute_result"
    }
   ],
   "source": [
    "%run testcong.py\n",
    "%run XE7.py\n",
    "test_isom_labels('379456gp1', '379456go1', verbose=False)"
   ]
  },
  {
   "cell_type": "code",
   "execution_count": 14,
   "metadata": {},
   "outputs": [
    {
     "data": {
      "text/plain": [
       "-193277810880*x0^4 + 3*x0^2*x1^2 - 228926898052199424*x0^3*x2 + 2*x1^3*x2 - 112068936535695139123200*x0^2*x2^2 + 196223055473313792*x0*x1*x2^2 - 579833432640*x1^2*x2^2 - 31604635505055743314226380800*x0*x2^3 + 74712624357130092748800*x1*x2^3 - 4278165277698131300419451744157696*x2^4"
      ]
     },
     "execution_count": 14,
     "metadata": {},
     "output_type": "execute_result"
    }
   ],
   "source": [
    "E1 = EllipticCurve('379456gp1')\n",
    "E2 = EllipticCurve('379456go1')\n",
    "j1 = E1.j_invariant()\n",
    "j2 = E2.j_invariant()\n",
    "X = XE7.from_elliptic_curve(E1)\n",
    "X.F()"
   ]
  },
  {
   "cell_type": "code",
   "execution_count": 15,
   "metadata": {},
   "outputs": [
    {
     "data": {
      "text/plain": [
       "(16807000, 16807000)"
      ]
     },
     "execution_count": 15,
     "metadata": {},
     "output_type": "execute_result"
    }
   ],
   "source": [
    "j1, j2"
   ]
  },
  {
   "cell_type": "code",
   "execution_count": 16,
   "metadata": {},
   "outputs": [
    {
     "data": {
      "text/plain": [
       "-77"
      ]
     },
     "execution_count": 16,
     "metadata": {},
     "output_type": "execute_result"
    }
   ],
   "source": [
    "E1.is_quadratic_twist(E2)"
   ]
  },
  {
   "cell_type": "code",
   "execution_count": 17,
   "metadata": {},
   "outputs": [],
   "source": [
    "C = Curve(X.F())"
   ]
  },
  {
   "cell_type": "code",
   "execution_count": 18,
   "metadata": {},
   "outputs": [
    {
     "data": {
      "text/plain": [
       "[(0 : 1 : 0)]"
      ]
     },
     "execution_count": 18,
     "metadata": {},
     "output_type": "execute_result"
    }
   ],
   "source": [
    "C.rational_points(bound=3)"
   ]
  },
  {
   "cell_type": "code",
   "execution_count": 27,
   "metadata": {},
   "outputs": [
    {
     "data": {
      "text/plain": [
       "[[0, 1, 0], [-264264, 64425936960, 1]]"
      ]
     },
     "execution_count": 27,
     "metadata": {},
     "output_type": "execute_result"
    }
   ],
   "source": [
    "pts = X.lift_j(E2.j_invariant())\n",
    "pts"
   ]
  },
  {
   "cell_type": "code",
   "execution_count": 28,
   "metadata": {},
   "outputs": [
    {
     "data": {
      "text/plain": [
       "[['379456gp1'], ['379456go1']]"
      ]
     },
     "execution_count": 28,
     "metadata": {},
     "output_type": "execute_result"
    }
   ],
   "source": [
    "[[E.label() for E in X.curve(P)] for P in pts]"
   ]
  },
  {
   "cell_type": "code",
   "execution_count": 29,
   "metadata": {},
   "outputs": [
    {
     "data": {
      "text/plain": [
       "'The image is contained in the normalizer of a non-split Cartan group.'"
      ]
     },
     "execution_count": 29,
     "metadata": {},
     "output_type": "execute_result"
    }
   ],
   "source": [
    "E1.galois_representation().image_type(7)"
   ]
  },
  {
   "cell_type": "code",
   "execution_count": null,
   "metadata": {},
   "outputs": [],
   "source": []
  },
  {
   "cell_type": "code",
   "execution_count": 30,
   "metadata": {},
   "outputs": [],
   "source": [
    "t=polygen(QQ,'t')"
   ]
  },
  {
   "cell_type": "code",
   "execution_count": 32,
   "metadata": {},
   "outputs": [
    {
     "data": {
      "text/plain": [
       "[t + 49/54,\n",
       " t^4 + 98/27*t^3 + 14998/5103*t^2 - 469/729*t + 2048/35721,\n",
       " t^4 + 98/27*t^3 + 745159/5103*t^2 + 62944/243*t + 87808/729,\n",
       " t^8 + 196/27*t^7 + 8834/243*t^6 + 2248708/19683*t^5 + 117713281/531441*t^4 + 142797760/531441*t^3 + 92587264/531441*t^2 + 19668992/531441*t + 3211264/531441]"
      ]
     },
     "execution_count": 32,
     "metadata": {},
     "output_type": "execute_result"
    }
   ],
   "source": [
    "glist = [g for g,e in (KH1(t).j_invariant()-KH2(t).j_invariant()).factor() if e>0]\n",
    "glist"
   ]
  },
  {
   "cell_type": "code",
   "execution_count": 53,
   "metadata": {},
   "outputs": [],
   "source": [
    "X=XE7(-3*a^2,b)"
   ]
  },
  {
   "cell_type": "code",
   "execution_count": 59,
   "metadata": {},
   "outputs": [],
   "source": [
    "x0,x1,x2 = X._F.parent().gens()"
   ]
  },
  {
   "cell_type": "code",
   "execution_count": 81,
   "metadata": {},
   "outputs": [
    {
     "name": "stdout",
     "output_type": "stream",
     "text": [
      "mapping P=[1, a, 0] to its curve\n",
      "Failure in computation of z=0 curves when j=0\n"
     ]
    },
    {
     "data": {
      "text/plain": [
       "[]"
      ]
     },
     "execution_count": 81,
     "metadata": {},
     "output_type": "execute_result"
    }
   ],
   "source": [
    "X.curve([1,a,0], True)"
   ]
  },
  {
   "cell_type": "code",
   "execution_count": 127,
   "metadata": {},
   "outputs": [
    {
     "name": "stdout",
     "output_type": "stream",
     "text": [
      "2985984*a^6/(1728*a^6 - 432*b^2)\n",
      "644972544*b/(-1289945088*a^3)\n",
      "(63207309312*a^3 - 31603654656*b)/(-69657034752*a^3)\n"
     ]
    },
    {
     "data": {
      "text/plain": [
       "110096008335065088/(47184003572170752*a)"
      ]
     },
     "execution_count": 127,
     "metadata": {},
     "output_type": "execute_result"
    }
   ],
   "source": [
    "j=X.Eab.j_invariant()\n",
    "print(j)\n",
    "u = ((j-1728)/j).sqrt()\n",
    "print(u)\n",
    "T = -49*(1+u)/54\n",
    "print(T)\n",
    "ET=KH0(T)\n",
    "assert(ET.j_invariant()==j)\n",
    "u2=ET.c4()/X.Eab.c4()\n",
    "u3=ET.c6()/X.Eab.c6()\n",
    "u1=u3/u2\n",
    "[(uk).factor() for uk in [u1,u2,u3]]\n",
    "u1"
   ]
  },
  {
   "cell_type": "code",
   "execution_count": 128,
   "metadata": {},
   "outputs": [
    {
     "ename": "AttributeError",
     "evalue": "'EllipticCurve_generic_with_category' object has no attribute 'quadratic_twist'",
     "output_type": "error",
     "traceback": [
      "\u001b[0;31m---------------------------------------------------------------------------\u001b[0m",
      "\u001b[0;31mAttributeError\u001b[0m                            Traceback (most recent call last)",
      "\u001b[0;32m<ipython-input-128-eb5fba316238>\u001b[0m in \u001b[0;36m<module>\u001b[0;34m()\u001b[0m\n\u001b[0;32m----> 1\u001b[0;31m \u001b[0mX\u001b[0m\u001b[0;34m.\u001b[0m\u001b[0mEab\u001b[0m\u001b[0;34m.\u001b[0m\u001b[0mquadratic_twist\u001b[0m\u001b[0;34m(\u001b[0m\u001b[0mu1\u001b[0m\u001b[0;34m)\u001b[0m\u001b[0;34m\u001b[0m\u001b[0m\n\u001b[0m",
      "\u001b[0;32m/usr/local/sage-8.6/local/lib/python2.7/site-packages/sage/structure/category_object.pyx\u001b[0m in \u001b[0;36msage.structure.category_object.CategoryObject.__getattr__ (build/cythonized/sage/structure/category_object.c:6687)\u001b[0;34m()\u001b[0m\n\u001b[1;32m    817\u001b[0m             \u001b[0mAttributeError\u001b[0m\u001b[0;34m:\u001b[0m \u001b[0;34m'PrimeNumbers_with_category'\u001b[0m \u001b[0mobject\u001b[0m \u001b[0mhas\u001b[0m \u001b[0mno\u001b[0m \u001b[0mattribute\u001b[0m \u001b[0;34m'sadfasdf'\u001b[0m\u001b[0;34m\u001b[0m\u001b[0m\n\u001b[1;32m    818\u001b[0m         \"\"\"\n\u001b[0;32m--> 819\u001b[0;31m         \u001b[0;32mreturn\u001b[0m \u001b[0mself\u001b[0m\u001b[0;34m.\u001b[0m\u001b[0mgetattr_from_category\u001b[0m\u001b[0;34m(\u001b[0m\u001b[0mname\u001b[0m\u001b[0;34m)\u001b[0m\u001b[0;34m\u001b[0m\u001b[0m\n\u001b[0m\u001b[1;32m    820\u001b[0m \u001b[0;34m\u001b[0m\u001b[0m\n\u001b[1;32m    821\u001b[0m     \u001b[0mcdef\u001b[0m \u001b[0mgetattr_from_category\u001b[0m\u001b[0;34m(\u001b[0m\u001b[0mself\u001b[0m\u001b[0;34m,\u001b[0m \u001b[0mname\u001b[0m\u001b[0;34m)\u001b[0m\u001b[0;34m:\u001b[0m\u001b[0;34m\u001b[0m\u001b[0m\n",
      "\u001b[0;32m/usr/local/sage-8.6/local/lib/python2.7/site-packages/sage/structure/category_object.pyx\u001b[0m in \u001b[0;36msage.structure.category_object.CategoryObject.getattr_from_category (build/cythonized/sage/structure/category_object.c:6850)\u001b[0;34m()\u001b[0m\n\u001b[1;32m    832\u001b[0m                 \u001b[0mcls\u001b[0m \u001b[0;34m=\u001b[0m \u001b[0mself\u001b[0m\u001b[0;34m.\u001b[0m\u001b[0m_category\u001b[0m\u001b[0;34m.\u001b[0m\u001b[0mparent_class\u001b[0m\u001b[0;34m\u001b[0m\u001b[0m\n\u001b[1;32m    833\u001b[0m \u001b[0;34m\u001b[0m\u001b[0m\n\u001b[0;32m--> 834\u001b[0;31m             \u001b[0mattr\u001b[0m \u001b[0;34m=\u001b[0m \u001b[0mgetattr_from_other_class\u001b[0m\u001b[0;34m(\u001b[0m\u001b[0mself\u001b[0m\u001b[0;34m,\u001b[0m \u001b[0mcls\u001b[0m\u001b[0;34m,\u001b[0m \u001b[0mname\u001b[0m\u001b[0;34m)\u001b[0m\u001b[0;34m\u001b[0m\u001b[0m\n\u001b[0m\u001b[1;32m    835\u001b[0m             \u001b[0mself\u001b[0m\u001b[0;34m.\u001b[0m\u001b[0m__cached_methods\u001b[0m\u001b[0;34m[\u001b[0m\u001b[0mname\u001b[0m\u001b[0;34m]\u001b[0m \u001b[0;34m=\u001b[0m \u001b[0mattr\u001b[0m\u001b[0;34m\u001b[0m\u001b[0m\n\u001b[1;32m    836\u001b[0m             \u001b[0;32mreturn\u001b[0m \u001b[0mattr\u001b[0m\u001b[0;34m\u001b[0m\u001b[0m\n",
      "\u001b[0;32m/usr/local/sage-8.6/local/lib/python2.7/site-packages/sage/cpython/getattr.pyx\u001b[0m in \u001b[0;36msage.cpython.getattr.getattr_from_other_class (build/cythonized/sage/cpython/getattr.c:2534)\u001b[0;34m()\u001b[0m\n\u001b[1;32m    387\u001b[0m         \u001b[0mdummy_error_message\u001b[0m\u001b[0;34m.\u001b[0m\u001b[0mcls\u001b[0m \u001b[0;34m=\u001b[0m \u001b[0mtype\u001b[0m\u001b[0;34m(\u001b[0m\u001b[0mself\u001b[0m\u001b[0;34m)\u001b[0m\u001b[0;34m\u001b[0m\u001b[0m\n\u001b[1;32m    388\u001b[0m         \u001b[0mdummy_error_message\u001b[0m\u001b[0;34m.\u001b[0m\u001b[0mname\u001b[0m \u001b[0;34m=\u001b[0m \u001b[0mname\u001b[0m\u001b[0;34m\u001b[0m\u001b[0m\n\u001b[0;32m--> 389\u001b[0;31m         \u001b[0;32mraise\u001b[0m \u001b[0mAttributeError\u001b[0m\u001b[0;34m(\u001b[0m\u001b[0mdummy_error_message\u001b[0m\u001b[0;34m)\u001b[0m\u001b[0;34m\u001b[0m\u001b[0m\n\u001b[0m\u001b[1;32m    390\u001b[0m     \u001b[0mcdef\u001b[0m \u001b[0mPyObject\u001b[0m\u001b[0;34m*\u001b[0m \u001b[0mattr\u001b[0m \u001b[0;34m=\u001b[0m \u001b[0minstance_getattr\u001b[0m\u001b[0;34m(\u001b[0m\u001b[0mcls\u001b[0m\u001b[0;34m,\u001b[0m \u001b[0mname\u001b[0m\u001b[0;34m)\u001b[0m\u001b[0;34m\u001b[0m\u001b[0m\n\u001b[1;32m    391\u001b[0m     \u001b[0;32mif\u001b[0m \u001b[0mattr\u001b[0m \u001b[0;32mis\u001b[0m \u001b[0mNULL\u001b[0m\u001b[0;34m:\u001b[0m\u001b[0;34m\u001b[0m\u001b[0m\n",
      "\u001b[0;31mAttributeError\u001b[0m: 'EllipticCurve_generic_with_category' object has no attribute 'quadratic_twist'"
     ]
    }
   ],
   "source": [
    "X.Eab.quadratic_twist(u1)"
   ]
  },
  {
   "cell_type": "code",
   "execution_count": 135,
   "metadata": {},
   "outputs": [
    {
     "data": {
      "text/plain": [
       "110096008335065088/(47184003572170752*a)"
      ]
     },
     "execution_count": 135,
     "metadata": {},
     "output_type": "execute_result"
    }
   ],
   "source": [
    "ET.is_quadratic_twist(X.Eab.change_ring(ET.base_ring()))"
   ]
  },
  {
   "cell_type": "code",
   "execution_count": 133,
   "metadata": {},
   "outputs": [
    {
     "data": {
      "text/plain": [
       "Multivariate Polynomial Ring in a, b over Rational Field"
      ]
     },
     "execution_count": 133,
     "metadata": {},
     "output_type": "execute_result"
    }
   ],
   "source": [
    "X.Eab.base_ring()"
   ]
  },
  {
   "cell_type": "code",
   "execution_count": 88,
   "metadata": {},
   "outputs": [
    {
     "data": {
      "text/plain": [
       "2985984*a^6/(1728*a^6 - 432*b^2)"
      ]
     },
     "execution_count": 88,
     "metadata": {},
     "output_type": "execute_result"
    }
   ],
   "source": [
    "X.Eab.j_invariant()"
   ]
  },
  {
   "cell_type": "code",
   "execution_count": null,
   "metadata": {},
   "outputs": [],
   "source": []
  }
 ],
 "metadata": {
  "kernelspec": {
   "display_name": "SageMath 8.6",
   "language": "",
   "name": "sagemath"
  },
  "language_info": {
   "codemirror_mode": {
    "name": "ipython",
    "version": 2
   },
   "file_extension": ".py",
   "mimetype": "text/x-python",
   "name": "python",
   "nbconvert_exporter": "python",
   "pygments_lexer": "ipython2",
   "version": "2.7.15"
  }
 },
 "nbformat": 4,
 "nbformat_minor": 2
}
