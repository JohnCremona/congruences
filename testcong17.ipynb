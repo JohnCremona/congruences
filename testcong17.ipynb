{
 "cells": [
  {
   "cell_type": "code",
   "execution_count": 2,
   "metadata": {},
   "outputs": [],
   "source": [
    "%runfile testcong.py"
   ]
  },
  {
   "cell_type": "markdown",
   "metadata": {},
   "source": [
    "## Read all optimal curves from the internal database (conductors from $1$ to $400000$) and make a hash table from the $a_p$ for $40$ primes (the first $40$ over $400000$).  This takes about 47 minutes so after doing it once we save the result, and later runs will read this (which takes a few seconds: the saved file is 52M)."
   ]
  },
  {
   "cell_type": "code",
   "execution_count": 3,
   "metadata": {},
   "outputs": [
    {
     "data": {
      "text/plain": [
       "8"
      ]
     },
     "execution_count": 3,
     "metadata": {},
     "output_type": "execute_result"
    }
   ],
   "source": [
    "try:\n",
    "    hashtab_17_40 = load('hashtab17_40')\n",
    "except IOError:\n",
    "    hashtab_17_40 = make_hash(17,1,400000,40)\n",
    "    hashtab_17_40 = dict([(k,v) for k,v in hashtab_17_40.items() if len(v)>1])\n",
    "    save(hashtab_17_40, 'hashtab17_40')\n",
    "len(hashtab_17_40)"
   ]
  },
  {
   "cell_type": "code",
   "execution_count": 4,
   "metadata": {},
   "outputs": [
    {
     "data": {
      "text/plain": [
       "[['11025w1', '143325ej1'],\n",
       " ['3675o1', '47775da1'],\n",
       " ['3675b1', '47775b1'],\n",
       " ['11025bi1', '143325be1'],\n",
       " ['11025bm1', '143325ba1'],\n",
       " ['3675k1', '47775cq1'],\n",
       " ['11025r1', '143325et1'],\n",
       " ['3675g1', '47775bf1']]"
      ]
     },
     "execution_count": 4,
     "metadata": {},
     "output_type": "execute_result"
    }
   ],
   "source": [
    "hashtab_17_40.values()"
   ]
  },
  {
   "cell_type": "markdown",
   "metadata": {},
   "source": [
    "## The hash table is a dictionary: congruent curves will have the same hash (but possibly some incongruent curves will also have the same hash, if they have the same values of $a_p\\pmod{17}$ for all $40$ primes tested).  So we extract sets of mutually congruent curves by looking at the dictionary's values (which are lists of labels) of length greater than one."
   ]
  },
  {
   "cell_type": "code",
   "execution_count": 5,
   "metadata": {},
   "outputs": [
    {
     "name": "stdout",
     "output_type": "stream",
     "text": [
      "The number of nontrivial congruent sets is 8\n",
      "Distribution of sizes of nontrivial congruent sets: Counter({2: 8})\n"
     ]
    }
   ],
   "source": [
    "congruent_sets = [s for s in hashtab_17_40.values() if len(s)>1]\n",
    "print(\"The number of nontrivial congruent sets is {}\".format(len(congruent_sets)))\n",
    "from collections import Counter\n",
    "sizes = Counter()\n",
    "for s in congruent_sets:\n",
    "    sizes[len(s)] += 1\n",
    "print(\"Distribution of sizes of nontrivial congruent sets: {}\".format(sizes))"
   ]
  },
  {
   "cell_type": "markdown",
   "metadata": {},
   "source": [
    "### Test each of these pairs to see if we have an actual congruence, using Kraus's criterion (possibly after twisting to reduce the conductors). "
   ]
  },
  {
   "cell_type": "code",
   "execution_count": 6,
   "metadata": {},
   "outputs": [
    {
     "name": "stdout",
     "output_type": "stream",
     "text": [
      "all 8 sets of curves really are 17-congruent\n"
     ]
    }
   ],
   "source": [
    "bad_pairs = []\n",
    "for s in congruent_sets:\n",
    "    E1 = EllipticCurve(s[0])\n",
    "    for r in s[1:]:\n",
    "        E2 = EllipticCurve(r)\n",
    "        res, info = test_cong(17,E1,E2, mumax=15000000, verbose=False)\n",
    "        if not res:\n",
    "            report(res,info,17,s[0],r)\n",
    "            bad_pairs.append([s[0],r])\n",
    "if bad_pairs:\n",
    "    print(\"{} pairs of curves are not actually 17-congruent: {}\".format(len(bad_pairs),bad_pairs))\n",
    "else:\n",
    "    print(\"all {} sets of curves really are 17-congruent\".format(len(congruent_sets)))"
   ]
  },
  {
   "cell_type": "markdown",
   "metadata": {},
   "source": [
    "### Now we reduce to a smaller set of pairs such that every congruent pair is a twist of one in the smaller set"
   ]
  },
  {
   "cell_type": "code",
   "execution_count": 7,
   "metadata": {},
   "outputs": [
    {
     "name": "stdout",
     "output_type": "stream",
     "text": [
      "Out of 8 pairs, there are only 1 distinct pairs of j-invariants\n"
     ]
    }
   ],
   "source": [
    "j_pairs = [Set([EllipticCurve(s).j_invariant() for s in s2]) for s2 in congruent_sets]\n",
    "j_sets = list(Set(j_pairs))\n",
    "print(\"Out of {} pairs, there are only {} distinct pairs of j-invariants\".format(len(j_pairs),len(j_sets)))"
   ]
  },
  {
   "cell_type": "code",
   "execution_count": 8,
   "metadata": {},
   "outputs": [
    {
     "name": "stdout",
     "output_type": "stream",
     "text": [
      "1 congruent pairs up to twist: [['11025w1', '143325ej1']]\n"
     ]
    }
   ],
   "source": [
    "congruent_pairs = []\n",
    "for jset in j_sets:\n",
    "    for s2 in congruent_sets:\n",
    "        if jset==Set([EllipticCurve(s).j_invariant() for s in s2]):\n",
    "            congruent_pairs.append(s2)\n",
    "            break\n",
    "print(\"{} congruent pairs up to twist: {}\".format(len(congruent_pairs),congruent_pairs))"
   ]
  },
  {
   "cell_type": "code",
   "execution_count": 9,
   "metadata": {},
   "outputs": [],
   "source": [
    "out = open(\"mod17pairs.m\",'w')\n",
    "out.write('pairs := [\\\\\\n')\n",
    "for s in congruent_sets[:-1]:\n",
    "    out.write('[\"{}\", \"{}\"],\\\\\\n'.format(s[0],s[1]))\n",
    "s = congruent_sets[-1]\n",
    "out.write('[\"{}\", \"{}\"]\\\\\\n'.format(s[0],s[1]))\n",
    "out.write('];\\n')\n",
    "out.close()\n"
   ]
  },
  {
   "cell_type": "code",
   "execution_count": 10,
   "metadata": {},
   "outputs": [
    {
     "data": {
      "text/plain": [
       "[{-46585/243, 48412981936758748562855/77853743274432041397}]"
      ]
     },
     "execution_count": 10,
     "metadata": {},
     "output_type": "execute_result"
    }
   ],
   "source": [
    "j_sets"
   ]
  },
  {
   "cell_type": "code",
   "execution_count": null,
   "metadata": {},
   "outputs": [],
   "source": []
  }
 ],
 "metadata": {
  "kernelspec": {
   "display_name": "SageMath 8.7",
   "language": "",
   "name": "sagemath"
  },
  "language_info": {
   "codemirror_mode": {
    "name": "ipython",
    "version": 2
   },
   "file_extension": ".py",
   "mimetype": "text/x-python",
   "name": "python",
   "nbconvert_exporter": "python",
   "pygments_lexer": "ipython2",
   "version": "2.7.15"
  }
 },
 "nbformat": 4,
 "nbformat_minor": 2
}
