{
 "cells": [
  {
   "cell_type": "code",
   "execution_count": 1,
   "metadata": {},
   "outputs": [],
   "source": [
    "%runfile testcong.py"
   ]
  },
  {
   "cell_type": "markdown",
   "metadata": {},
   "source": [
    "## Read all optimal curves from the internal database (conductors from $1$ to $500000$) and make a hash table from the $a_p$ for $50$ primes (the first $50$ over $500000$).  This takes about 47 minutes so after doing it once we save the result, and later runs will read this (which takes a few seconds: the saved file is 52M)."
   ]
  },
  {
   "cell_type": "code",
   "execution_count": 2,
   "metadata": {
    "scrolled": true
   },
   "outputs": [
    {
     "data": {
      "text/plain": [
       "731"
      ]
     },
     "execution_count": 2,
     "metadata": {},
     "output_type": "execute_result"
    }
   ],
   "source": [
    "try:\n",
    "    hashtab_11_50 = load('hashtab11_50')\n",
    "except IOError:\n",
    "    hashtab_11_50 = make_hash(11,1,500000,50)\n",
    "    hashtab_11_50 = dict([(k,v) for k,v in hashtab_11_50.items() if len(v)>1])\n",
    "    save(hashtab_11_50, 'hashtab11_50')\n",
    "len(hashtab_11_50)    "
   ]
  },
  {
   "cell_type": "markdown",
   "metadata": {},
   "source": [
    "## The hash table is a dictionary: congruent curves will have the same hash (but possibly some incongruent curves will also have the same hash, if they have the same values of $a_p\\pmod{11}$ for all $30$ primes tested).  So we extract sets of mutually congruent curves by looking at the dictionary's values (which are lists of labels) of length greater than one."
   ]
  },
  {
   "cell_type": "code",
   "execution_count": 3,
   "metadata": {},
   "outputs": [
    {
     "name": "stdout",
     "output_type": "stream",
     "text": [
      "The number of nontrivial congruent sets is 731\n",
      "Distribution of sizes of nontrivial congruent sets: Counter({2: 731})\n"
     ]
    }
   ],
   "source": [
    "congruent_sets = [s for s in hashtab_11_50.values() if len(s)>1]\n",
    "print(\"The number of nontrivial congruent sets is {}\".format(len(congruent_sets)))\n",
    "from collections import Counter\n",
    "sizes = Counter()\n",
    "for s in congruent_sets:\n",
    "    sizes[len(s)] += 1\n",
    "print(\"Distribution of sizes of nontrivial congruent sets: {}\".format(sizes))"
   ]
  },
  {
   "cell_type": "markdown",
   "metadata": {},
   "source": [
    "### Test each of these pairs to see if we have an actual congruence, using Kraus's criterion (possibly after twisting to reduce the conductors).  With the default mumax=5000000 there is one pair for which this is not rigorous:  '49a1' and '78400gw1'."
   ]
  },
  {
   "cell_type": "code",
   "execution_count": 4,
   "metadata": {},
   "outputs": [
    {
     "name": "stdout",
     "output_type": "stream",
     "text": [
      "all 731 sets of curves really are 11-congruent\n"
     ]
    }
   ],
   "source": [
    "bad_pairs = []\n",
    "for s in congruent_sets:\n",
    "    E1 = EllipticCurve(s[0])\n",
    "    for r in s[1:]:\n",
    "        E2 = EllipticCurve(r)\n",
    "        res, info = test_cong(11,E1,E2, mumax=15000000, verbose=False)\n",
    "        if not res:\n",
    "            report(res,info,11,s[0],r)\n",
    "            bad_pairs.append([s[0],r])\n",
    "if bad_pairs:\n",
    "    print(\"{} pairs of curves are not actually 11-congruent: {}\".format(len(bad_pairs),bad_pairs))\n",
    "else:\n",
    "    print(\"all {} sets of curves really are 11-congruent\".format(len(congruent_sets)))"
   ]
  },
  {
   "cell_type": "markdown",
   "metadata": {},
   "source": [
    "### So we have no \"false positive\" pairs"
   ]
  },
  {
   "cell_type": "code",
   "execution_count": null,
   "metadata": {},
   "outputs": [],
   "source": [
    "\n"
   ]
  },
  {
   "cell_type": "markdown",
   "metadata": {},
   "source": [
    "### Now we reduce to a smaller set of pairs such that every congruent pair is a twist of one in the smaller set"
   ]
  },
  {
   "cell_type": "code",
   "execution_count": 5,
   "metadata": {},
   "outputs": [
    {
     "name": "stdout",
     "output_type": "stream",
     "text": [
      "Out of 731 pairs, there are only 100 distinct pairs of j-invariants\n"
     ]
    }
   ],
   "source": [
    "j_pairs = [Set([EllipticCurve(s).j_invariant() for s in s2]) for s2 in congruent_sets]\n",
    "j_sets = list(Set(j_pairs))\n",
    "print(\"Out of {} pairs, there are only {} distinct pairs of j-invariants\".format(len(j_pairs),len(j_sets)))"
   ]
  },
  {
   "cell_type": "code",
   "execution_count": 6,
   "metadata": {},
   "outputs": [
    {
     "name": "stdout",
     "output_type": "stream",
     "text": [
      "100 congruent pairs up to twist: [['11466k1', '126126bj1'], ['383040ip1', '383040ir1'], ['78650w1', '78650bc1'], ['80325bo1', '80325bp1'], ['8550d1', '111150bl1'], ['645f1', '70305g1'], ['1254b1', '264594e1'], ['286650nv1', '286650oc1'], ['22050dx1', '374850pj1'], ['307626j1', '307626k1'], ['187690d1', '187690e1'], ['2755b1', '476615d1'], ['8640bc1', '319680cn1'], ['13104q1', '13104r1'], ['263578b1', '263578c1'], ['221130cd1', '221130cf1'], ['8120d1', '332920k1'], ['7830f1', '477630e1'], ['445578o1', '445578p1'], ['208080u1', '208080bb1'], ['457380q1', '457380t1'], ['1115a1', '125995a1'], ['148225ck1', '148225cl1'], ['18837e1', '239499f1'], ['1782b1', '447282e1'], ['432450er1', '432450es1'], ['1296d1', '9072i1'], ['31746q1', '222222bb1'], ['15600bw1', '265200ce1'], ['494018d1', '494018i1'], ['62424d1', '436968bs1'], ['202400r1', '349600y1'], ['513b1', '77463b1'], ['4275a1', '175275y1'], ['101568z1', '101568ba1'], ['43632s1', '479952t1'], ['7830p1', '477630j1'], ['1904d1', '36176v1'], ['3718d1', '107822e1'], ['17550ck1', '298350dg1'], ['426320z1', '426320ba1'], ['291984bq1', '451248bd1'], ['106722fy1', '106722hg1'], ['25110bb1', '426870t1'], ['30855b1', '215985bx1'], ['5880b1', '417480m1'], ['12376j1', '12376k1'], ['25200by1', '478800fd1'], ['3528z1', '45864bt1'], ['5265o1', '194805e1'], ['70785w1', '495495k1'], ['14196i1', '269724bf1'], ['34385g1', '378235o1'], ['9450du1', '292950fg1'], ['9072u1', '99792ch1'], ['3850x1', '65450bh1'], ['266526w1', '360594s1'], ['4800bl1', '33600eh1'], ['329a1', '59549a1'], ['4046n1', '416738v1'], ['1925g1', '140525a1'], ['7350a1', '80850c1'], ['1278k1', '231318bh1'], ['73370h1', '130790e1'], ['258b1', '461562a1'], ['4225a1', '299975g1'], ['30888g1', '216216bo1'], ['41382bt1', '289674ed1'], ['3174d1', '403098l1'], ['316030bu1', '316030bv1'], ['201586n1', '201586p1'], ['1782g1', '447282o1'], ['8085x1', '299145cb1'], ['29106cr1', '378378dp1'], ['31280x1', '344080p1'], ['383670bo1', '383670cy1'], ['127413a1', '127413c1'], ['287490k1', '287490l1'], ['497a1', '148603e1'], ['193358bf1', '193358bg1'], ['700h1', '11900g1'], ['9450bo1', '160650dv1'], ['87120dv1', '87120ek1'], ['65712d1', '459984q1'], ['3322c1', '235862c1'], ['228690fk1', '228690fv1'], ['412776j1', '412776k1'], ['232544h1', '232544i1'], ['22050bf1', '286650ee1'], ['9408z1', '385728gh1'], ['8410h1', '58870m1'], ['26950dc1', '458150fd1'], ['273273bc1', '273273bd1'], ['17550ci1', '122850de1'], ['18850i1', '131950bv1'], ['5544o1', '293832bl1'], ['40560cs1', '446160iw1'], ['176890di1', '176890dj1'], ['302400ny1', '302400pc1'], ['9555a1', '181545bz1']]\n"
     ]
    }
   ],
   "source": [
    "congruent_pairs = []\n",
    "for jset in j_sets:\n",
    "    for s2 in congruent_sets:\n",
    "        if jset==Set([EllipticCurve(s).j_invariant() for s in s2]):\n",
    "            congruent_pairs.append(s2)\n",
    "            break\n",
    "print(\"{} congruent pairs up to twist: {}\".format(len(congruent_pairs),congruent_pairs))"
   ]
  },
  {
   "cell_type": "markdown",
   "metadata": {},
   "source": [
    "### Test whether all these are irreducible, i.e. have no $11$-isogenies:"
   ]
  },
  {
   "cell_type": "code",
   "execution_count": 7,
   "metadata": {},
   "outputs": [],
   "source": [
    "for s2 in congruent_pairs:\n",
    "    for s in s2:\n",
    "        E = EllipticCurve(s)\n",
    "        assert not E.isogenies_prime_degree(11)"
   ]
  },
  {
   "cell_type": "markdown",
   "metadata": {},
   "source": [
    "#### In fact the only isogeny degrees among these curves are 2, 3, 7:"
   ]
  },
  {
   "cell_type": "code",
   "execution_count": 8,
   "metadata": {},
   "outputs": [
    {
     "data": {
      "text/plain": [
       "[-1, 1, -1]"
      ]
     },
     "execution_count": 8,
     "metadata": {},
     "output_type": "execute_result"
    }
   ],
   "source": [
    "[legendre_symbol(d,11) for d in [2,3,7]]"
   ]
  },
  {
   "cell_type": "code",
   "execution_count": 9,
   "metadata": {},
   "outputs": [
    {
     "data": {
      "text/plain": [
       "{2, 3, 7}"
      ]
     },
     "execution_count": 9,
     "metadata": {},
     "output_type": "execute_result"
    }
   ],
   "source": [
    "sum([Set(EllipticCurve(s[0]).reducible_primes()) for s in congruent_pairs],Set())"
   ]
  },
  {
   "cell_type": "code",
   "execution_count": 10,
   "metadata": {},
   "outputs": [
    {
     "data": {
      "text/plain": [
       "[([], []),\n",
       " ([], []),\n",
       " ([2], []),\n",
       " ([], []),\n",
       " ([], []),\n",
       " ([], []),\n",
       " ([], []),\n",
       " ([], []),\n",
       " ([7], []),\n",
       " ([], []),\n",
       " ([], []),\n",
       " ([], []),\n",
       " ([], []),\n",
       " ([], []),\n",
       " ([], []),\n",
       " ([], []),\n",
       " ([], []),\n",
       " ([3], []),\n",
       " ([], []),\n",
       " ([], []),\n",
       " ([], []),\n",
       " ([], []),\n",
       " ([], []),\n",
       " ([], []),\n",
       " ([3], []),\n",
       " ([], []),\n",
       " ([], []),\n",
       " ([], []),\n",
       " ([], []),\n",
       " ([], []),\n",
       " ([], []),\n",
       " ([], []),\n",
       " ([], []),\n",
       " ([2], []),\n",
       " ([], []),\n",
       " ([], []),\n",
       " ([3], []),\n",
       " ([2], []),\n",
       " ([], []),\n",
       " ([], []),\n",
       " ([2], []),\n",
       " ([], []),\n",
       " ([], []),\n",
       " ([], []),\n",
       " ([], []),\n",
       " ([], []),\n",
       " ([], []),\n",
       " ([2], []),\n",
       " ([], []),\n",
       " ([], []),\n",
       " ([], []),\n",
       " ([], []),\n",
       " ([], []),\n",
       " ([], []),\n",
       " ([], []),\n",
       " ([2], []),\n",
       " ([], []),\n",
       " ([], []),\n",
       " ([], []),\n",
       " ([], []),\n",
       " ([], []),\n",
       " ([], []),\n",
       " ([2], []),\n",
       " ([], []),\n",
       " ([2], []),\n",
       " ([3], []),\n",
       " ([], []),\n",
       " ([], []),\n",
       " ([2, 3], []),\n",
       " ([], []),\n",
       " ([], []),\n",
       " ([3], []),\n",
       " ([], []),\n",
       " ([], []),\n",
       " ([], []),\n",
       " ([], []),\n",
       " ([], []),\n",
       " ([], []),\n",
       " ([], []),\n",
       " ([3], []),\n",
       " ([2], []),\n",
       " ([], []),\n",
       " ([], []),\n",
       " ([], []),\n",
       " ([], []),\n",
       " ([], []),\n",
       " ([], []),\n",
       " ([], []),\n",
       " ([], []),\n",
       " ([], []),\n",
       " ([], []),\n",
       " ([], []),\n",
       " ([], []),\n",
       " ([], []),\n",
       " ([], []),\n",
       " ([], []),\n",
       " ([], []),\n",
       " ([], []),\n",
       " ([], []),\n",
       " ([], [])]"
      ]
     },
     "execution_count": 10,
     "metadata": {},
     "output_type": "execute_result"
    }
   ],
   "source": [
    "[tuple(EllipticCurve(si).reducible_primes() for si in s) for s in congruent_pairs]"
   ]
  },
  {
   "cell_type": "code",
   "execution_count": null,
   "metadata": {},
   "outputs": [],
   "source": []
  },
  {
   "cell_type": "code",
   "execution_count": 10,
   "metadata": {},
   "outputs": [],
   "source": [
    "out = open(\"mod11pairs.m\",'w')\n",
    "out.write('pairs := [\\\\\\n')\n",
    "for s in congruent_sets[:-1]:\n",
    "    out.write('[\"{}\", \"{}\"],\\\\\\n'.format(s[0],s[1]))\n",
    "s = congruent_sets[-1]\n",
    "out.write('[\"{}\", \"{}\"]\\\\\\n'.format(s[0],s[1]))\n",
    "out.write('];\\n')\n",
    "out.close()"
   ]
  },
  {
   "cell_type": "code",
   "execution_count": 11,
   "metadata": {},
   "outputs": [],
   "source": [
    "out = open(\"mod11pairs_uptotwist.m\",'w')\n",
    "out.write('pairs := [\\\\\\n')\n",
    "for s in congruent_pairs[:-1]:\n",
    "    out.write('[EllipticCurve(\"{}\"), EllipticCurve(\"{}\")],\\\\\\n'.format(s[0],s[1]))\n",
    "s = congruent_pairs[-1]\n",
    "out.write('[EllipticCurve(\"{}\"), EllipticCurve(\"{}\")]\\\\\\n'.format(s[0],s[1]))\n",
    "out.write('];\\n')\n",
    "out.close()"
   ]
  },
  {
   "cell_type": "code",
   "execution_count": 11,
   "metadata": {},
   "outputs": [
    {
     "data": {
      "text/plain": [
       "100"
      ]
     },
     "execution_count": 11,
     "metadata": {},
     "output_type": "execute_result"
    }
   ],
   "source": [
    "len(congruent_pairs)"
   ]
  },
  {
   "cell_type": "code",
   "execution_count": 12,
   "metadata": {},
   "outputs": [
    {
     "name": "stdout",
     "output_type": "stream",
     "text": [
      "pair ['1904d1', '36176v1']: class sizes [2, 1]\n",
      "pair ['22050dx1', '374850pj1']: class sizes [2, 1]\n",
      "pair ['7350j1', '124950bg1']: class sizes [2, 1]\n",
      "pair ['4275a1', '175275y1']: class sizes [2, 1]\n",
      "pair ['700h1', '11900g1']: class sizes [2, 1]\n",
      "pair ['2352l1', '39984br1']: class sizes [2, 1]\n",
      "pair ['6300z1', '107100cn1']: class sizes [2, 1]\n",
      "pair ['1666d1', '31654h1']: class sizes [2, 1]\n",
      "pair ['3850x1', '65450bh1']: class sizes [2, 1]\n",
      "pair ['3174d1', '403098l1']: class sizes [4, 1]\n",
      "pair ['28224en1', '479808my1']: class sizes [2, 1]\n",
      "pair ['26950db1', '458150ek1']: class sizes [2, 1]\n",
      "pair ['26950bh1', '458150bh1']: class sizes [2, 1]\n",
      "pair ['11200bb1', '190400dh1']: class sizes [2, 1]\n",
      "pair ['28224x1', '479808ju1']: class sizes [2, 1]\n",
      "pair ['25200by1', '478800fd1']: class sizes [2, 1]\n",
      "pair ['4275c1', '175275l1']: class sizes [2, 1]\n",
      "pair ['78650w1', '78650bc1']: class sizes [2, 1]\n",
      "pair ['12600ba1', '239400r1']: class sizes [2, 1]\n",
      "pair ['84966ct1', '84966cu1']: class sizes [2, 1]\n",
      "pair ['6300s1', '107100bw1']: class sizes [2, 1]\n",
      "pair ['84966dm1', '84966dn1']: class sizes [2, 1]\n",
      "pair ['7830p1', '477630j1']: class sizes [2, 1]\n",
      "pair ['193358bf1', '193358bg1']: class sizes [2, 1]\n",
      "pair ['28224fo1', '479808in1']: class sizes [2, 1]\n",
      "pair ['700e1', '11900d1']: class sizes [2, 1]\n",
      "pair ['4900p1', '83300ba1']: class sizes [2, 1]\n",
      "pair ['426320z1', '426320ba1']: class sizes [2, 1]\n",
      "pair ['28224bs1', '479808fh1']: class sizes [2, 1]\n",
      "pair ['202300v1', '202300w1']: class sizes [1, 2]\n",
      "pair ['12600cl1', '239400cw1']: class sizes [2, 1]\n",
      "pair ['266450bf1', '266450bg1']: class sizes [2, 1]\n",
      "pair ['882d1', '14994bd1']: class sizes [2, 1]\n",
      "pair ['4225a1', '299975g1']: class sizes [2, 1]\n",
      "pair ['78650cy1', '78650dj1']: class sizes [2, 1]\n",
      "pair ['5200bh1', '369200w1']: class sizes [2, 1]\n",
      "pair ['1278k1', '231318bh1']: class sizes [2, 1]\n",
      "pair ['4046e1', '76874j1']: class sizes [2, 1]\n",
      "pair ['7056bs1', '119952gi1']: class sizes [2, 1]\n",
      "pair ['25200ci1', '478800mt1']: class sizes [2, 1]\n",
      "pair ['138b1', '17526b1']: class sizes [4, 1]\n",
      "pair ['254898cd1', '254898ct1']: class sizes [1, 2]\n",
      "pair ['2352r1', '39984cw1']: class sizes [2, 1]\n",
      "pair ['1782b1', '447282e1']: class sizes [2, 1]\n",
      "pair ['2925e1', '207675t1']: class sizes [2, 1]\n",
      "pair ['1104g1', '140208j1']: class sizes [4, 1]\n",
      "pair ['19600dl1', '333200dj1']: class sizes [2, 1]\n",
      "pair ['9408h1', '159936jt1']: class sizes [2, 1]\n",
      "pair ['11200bl1', '190400dd1']: class sizes [2, 1]\n",
      "pair ['25200fj1', '428400lx1']: class sizes [2, 1]\n",
      "pair ['4200g1', '79800h1']: class sizes [2, 1]\n",
      "pair ['78650cx1', '78650dh1']: class sizes [2, 1]\n",
      "pair ['325a1', '23075e1']: class sizes [2, 1]\n",
      "pair ['8400bb1', '159600fg1']: class sizes [2, 1]\n",
      "pair ['8400m1', '159600ge1']: class sizes [2, 1]\n",
      "pair ['882c1', '14994n1']: class sizes [2, 1]\n",
      "pair ['11200db1', '190400x1']: class sizes [2, 1]\n",
      "pair ['414a1', '52578j1']: class sizes [4, 1]\n",
      "pair ['25200ev1', '428400df1']: class sizes [2, 1]\n",
      "pair ['9408bp1', '159936dp1']: class sizes [2, 1]\n",
      "pair ['17136bo1', '325584db1']: class sizes [2, 1]\n",
      "pair ['193358k1', '193358l1']: class sizes [2, 1]\n",
      "pair ['14994cm1', '284886dd1']: class sizes [2, 1]\n",
      "pair ['4225h1', '299975j1']: class sizes [2, 1]\n",
      "pair ['9408ct1', '159936bd1']: class sizes [2, 1]\n",
      "pair ['53290m1', '53290n1']: class sizes [2, 1]\n",
      "pair ['5200q1', '369200bk1']: class sizes [2, 1]\n",
      "pair ['4275d1', '175275k1']: class sizes [2, 1]\n",
      "pair ['13328q1', '253232bu1']: class sizes [2, 1]\n",
      "pair ['7616a1', '144704co1']: class sizes [2, 1]\n",
      "pair ['22050ev1', '374850pi1']: class sizes [2, 1]\n",
      "pair ['2142p1', '40698bk1']: class sizes [2, 1]\n",
      "pair ['258b1', '461562a1']: class sizes [2, 1]\n",
      "pair ['202300r1', '202300s1']: class sizes [2, 1]\n",
      "pair ['2800bc1', '47600bo1']: class sizes [2, 1]\n",
      "pair ['78650x1', '78650bd1']: class sizes [2, 1]\n",
      "pair ['7056bk1', '119952dp1']: class sizes [2, 1]\n",
      "pair ['7616j1', '144704s1']: class sizes [2, 1]\n",
      "pair ['11200cu1', '190400bb1']: class sizes [2, 1]\n",
      "pair ['4900q1', '83300bg1']: class sizes [2, 1]\n",
      "pair ['479610ck1', '479610cl1']: class sizes [2, 1]\n",
      "pair ['53290a1', '53290b1']: class sizes [2, 1]\n",
      "pair ['426b1', '77106c1']: class sizes [2, 1]\n",
      "pair ['3850i1', '65450i1']: class sizes [2, 1]\n",
      "pair ['9408v1', '159936gp1']: class sizes [2, 1]\n",
      "pair ['4275b1', '175275x1']: class sizes [2, 1]\n",
      "pair ['4200bb1', '79800bv1']: class sizes [2, 1]\n",
      "pair ['1782g1', '447282o1']: class sizes [2, 1]\n",
      "pair ['479610bn1', '479610bo1']: class sizes [1, 2]\n",
      "pair ['3450r1', '438150bk1']: class sizes [4, 1]\n",
      "pair ['85918bb1', '85918bc1']: class sizes [1, 2]\n",
      "pair ['325b1', '23075a1']: class sizes [2, 1]\n",
      "pair ['3312n1', '420624k1']: class sizes [4, 1]\n",
      "pair ['2800x1', '47600bg1']: class sizes [2, 1]\n",
      "pair ['266450bj1', '266450bk1']: class sizes [1, 2]\n",
      "pair ['294a1', '4998ba1']: class sizes [2, 1]\n",
      "pair ['7350u1', '124950ck1']: class sizes [2, 1]\n",
      "pair ['2925t1', '207675n1']: class sizes [2, 1]\n",
      "pair ['19600dm1', '333200dn1']: class sizes [2, 1]\n",
      "pair ['5950p1', '113050cj1']: class sizes [2, 1]\n",
      "pair ['254898bb1', '254898bq1']: class sizes [1, 2]\n",
      "pair ['426320p1', '426320q1']: class sizes [1, 2]\n",
      "pair ['7830f1', '477630e1']: class sizes [2, 1]\n",
      "pair ['294b1', '4998bk1']: class sizes [2, 1]\n",
      "pair ['238b1', '4522b1']: class sizes [2, 1]\n"
     ]
    }
   ],
   "source": [
    "for pair in congruent_sets:\n",
    "    sizes = [len(EllipticCurve(lab).isogeny_class()) for lab in pair]\n",
    "    if sizes != [1,1]:\n",
    "        print(\"pair {}: class sizes {}\".format(pair,sizes))"
   ]
  },
  {
   "cell_type": "code",
   "execution_count": 13,
   "metadata": {},
   "outputs": [
    {
     "data": {
      "text/plain": [
       "[-1, 1, -1]"
      ]
     },
     "execution_count": 13,
     "metadata": {},
     "output_type": "execute_result"
    }
   ],
   "source": [
    "[legendre_symbol(a,11) for a in [2,3,7]]"
   ]
  },
  {
   "cell_type": "code",
   "execution_count": 15,
   "metadata": {},
   "outputs": [
    {
     "name": "stdout",
     "output_type": "stream",
     "text": [
      "119 pairs written to file\n"
     ]
    }
   ],
   "source": [
    "npc=0\n",
    "out = open(\"mod11_pairs.m\", \"w\")\n",
    "out.write('pairs := [\\\\\\n')\n",
    "for i,pair in enumerate(congruent_pairs):\n",
    "    cc = [all_c(c) for c in pair]\n",
    "    for c1 in cc[0]:\n",
    "        for c2 in cc[1]:\n",
    "            npc+=1\n",
    "            out.write('[\"{}\", \"{}\"]'.format(c1[0],c2[0]))\n",
    "            if i+1<len(congruent_pairs):\n",
    "                out.write(',')\n",
    "            out.write('\\\\\\n')\n",
    "out.write('];\\n')\n",
    "out.close()           \n",
    "print(\"{} pairs written to file\".format(npc))            "
   ]
  },
  {
   "cell_type": "code",
   "execution_count": 16,
   "metadata": {},
   "outputs": [
    {
     "data": {
      "text/plain": [
       "100"
      ]
     },
     "execution_count": 16,
     "metadata": {},
     "output_type": "execute_result"
    }
   ],
   "source": [
    "len(congruent_pairs)"
   ]
  },
  {
   "cell_type": "code",
   "execution_count": 1,
   "metadata": {},
   "outputs": [],
   "source": [
    "E1 = EllipticCurve('25921a1')\n",
    "E2 = EllipticCurve('78400gw1')"
   ]
  },
  {
   "cell_type": "code",
   "execution_count": 12,
   "metadata": {},
   "outputs": [],
   "source": [
    "L = [next_prime(400000)]\n",
    "while len(L)<36:\n",
    "    L.append(next_prime(L[-1]))\n",
    " "
   ]
  },
  {
   "cell_type": "code",
   "execution_count": 13,
   "metadata": {},
   "outputs": [
    {
     "data": {
      "text/plain": [
       "False"
      ]
     },
     "execution_count": 13,
     "metadata": {},
     "output_type": "execute_result"
    }
   ],
   "source": [
    "all((E1.ap(p)==E2.ap(p)) for p in L)"
   ]
  },
  {
   "cell_type": "code",
   "execution_count": 15,
   "metadata": {},
   "outputs": [],
   "source": [
    "p=L[-1]"
   ]
  },
  {
   "cell_type": "code",
   "execution_count": 17,
   "metadata": {},
   "outputs": [
    {
     "data": {
      "text/plain": [
       "(-586, 586)"
      ]
     },
     "execution_count": 17,
     "metadata": {},
     "output_type": "execute_result"
    }
   ],
   "source": [
    "E1.ap(p), E2.ap(p)"
   ]
  },
  {
   "cell_type": "code",
   "execution_count": 18,
   "metadata": {},
   "outputs": [
    {
     "data": {
      "text/plain": [
       "2 * 293"
      ]
     },
     "execution_count": 18,
     "metadata": {},
     "output_type": "execute_result"
    }
   ],
   "source": [
    "586.factor()"
   ]
  },
  {
   "cell_type": "code",
   "execution_count": 14,
   "metadata": {},
   "outputs": [],
   "source": [
    "def class_js(lab):\n",
    "    E = EllipticCurve(lab)\n",
    "    return Set([E1.j_invariant() for E1 in E.isogeny_class()])\n",
    "def set_js(s):\n",
    "    return sum([class_js(lab) for lab in s], Set())"
   ]
  },
  {
   "cell_type": "code",
   "execution_count": 15,
   "metadata": {},
   "outputs": [],
   "source": [
    "irred_js = Set()\n",
    "for s in congruent_sets:\n",
    "    js = set_js(s)\n",
    "    irred_js = irred_js + Set(js)"
   ]
  },
  {
   "cell_type": "code",
   "execution_count": 16,
   "metadata": {},
   "outputs": [
    {
     "data": {
      "text/plain": [
       "212"
      ]
     },
     "execution_count": 16,
     "metadata": {},
     "output_type": "execute_result"
    }
   ],
   "source": [
    "len(irred_js)"
   ]
  },
  {
   "cell_type": "code",
   "execution_count": null,
   "metadata": {},
   "outputs": [],
   "source": []
  }
 ],
 "metadata": {
  "kernelspec": {
   "display_name": "SageMath 8.9.beta7",
   "language": "sage",
   "name": "sagemath"
  },
  "language_info": {
   "codemirror_mode": {
    "name": "ipython",
    "version": 2
   },
   "file_extension": ".py",
   "mimetype": "text/x-python",
   "name": "python",
   "nbconvert_exporter": "python",
   "pygments_lexer": "ipython2",
   "version": "2.7.15"
  }
 },
 "nbformat": 4,
 "nbformat_minor": 2
}
