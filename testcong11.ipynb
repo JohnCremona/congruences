{
 "cells": [
  {
   "cell_type": "code",
   "execution_count": 3,
   "metadata": {},
   "outputs": [],
   "source": [
    "%runfile testcong.py"
   ]
  },
  {
   "cell_type": "markdown",
   "metadata": {},
   "source": [
    "## Read all optimal curves from the internal database (conductors from $1$ to $400000$) and make a hash table from the $a_p$ for $30$ primes (the first $30$ over $400000$).  This takes about 47 minutes so after doing it once we save the result, and later runs will read this (which takes a few seconds: the saved file is 52M)."
   ]
  },
  {
   "cell_type": "code",
   "execution_count": 4,
   "metadata": {},
   "outputs": [
    {
     "data": {
      "text/plain": [
       "636"
      ]
     },
     "execution_count": 4,
     "metadata": {},
     "output_type": "execute_result"
    }
   ],
   "source": [
    "try:\n",
    "    hashtab_11_30 = load('hashtab11_30')\n",
    "except IOError:\n",
    "    hashtab_11_30 = make_hash(11,1,400000,30)\n",
    "    hashtab_11_30 = dict([(k,v) for k,v in hashtab_11_30.items() if len(v)>1])\n",
    "    save(hashtab_11_30, 'hashtab11_30')\n",
    "len(hashtab_11_30)    "
   ]
  },
  {
   "cell_type": "markdown",
   "metadata": {},
   "source": [
    "## The hash table is a dictionary: congruent curves will have the same hash (but possibly some incongruent curves will also have the same hash, if they have the same values of $a_p\\pmod{11}$ for all $30$ primes tested).  So we extract sets of mutually congruent curves by looking at the dictionary's values (which are lists of labels) of length greater than one."
   ]
  },
  {
   "cell_type": "code",
   "execution_count": 5,
   "metadata": {},
   "outputs": [
    {
     "name": "stdout",
     "output_type": "stream",
     "text": [
      "The number of nontrivial congruent sets is 636\n",
      "Distribution of sizes of nontrivial congruent sets: Counter({2: 636})\n"
     ]
    }
   ],
   "source": [
    "congruent_sets = [s for s in hashtab_11_30.values() if len(s)>1]\n",
    "print(\"The number of nontrivial congruent sets is {}\".format(len(congruent_sets)))\n",
    "from collections import Counter\n",
    "sizes = Counter()\n",
    "for s in congruent_sets:\n",
    "    sizes[len(s)] += 1\n",
    "print(\"Distribution of sizes of nontrivial congruent sets: {}\".format(sizes))"
   ]
  },
  {
   "cell_type": "markdown",
   "metadata": {},
   "source": [
    "### Test each of these pairs to see if we have an actual congruence, using Kraus's criterion (possibly after twisting to reduce the conductors).  With the default mumax=5000000 there is one pair for which this is not rigorous:  '49a1' and '78400gw1'."
   ]
  },
  {
   "cell_type": "code",
   "execution_count": 6,
   "metadata": {},
   "outputs": [
    {
     "name": "stdout",
     "output_type": "stream",
     "text": [
      "Congruence mod 11 fails for 25921a1 and 78400gw1\n",
      " (not even isomorphic up to semisimplication: (29, 2, -2) )\n",
      "1 pairs of curves are not actually 11-congruent: [['25921a1', '78400gw1']]\n"
     ]
    }
   ],
   "source": [
    "bad_pairs = []\n",
    "for s in congruent_sets:\n",
    "    E1 = EllipticCurve(s[0])\n",
    "    for r in s[1:]:\n",
    "        E2 = EllipticCurve(r)\n",
    "        res, info = test_cong(11,E1,E2, mumax=15000000, verbose=False)\n",
    "        if not res:\n",
    "            report(res,info,11,s[0],r)\n",
    "            bad_pairs.append([s[0],r])\n",
    "if bad_pairs:\n",
    "    print(\"{} pairs of curves are not actually 11-congruent: {}\".format(len(bad_pairs),bad_pairs))\n",
    "else:\n",
    "    print(\"all {} sets of curves really are 11-congruent\".format(len(congruent_sets)))"
   ]
  },
  {
   "cell_type": "markdown",
   "metadata": {},
   "source": [
    "### So we have one \"false positive\" pair which we now remove from the list of congruent pairs:"
   ]
  },
  {
   "cell_type": "code",
   "execution_count": 7,
   "metadata": {},
   "outputs": [
    {
     "name": "stdout",
     "output_type": "stream",
     "text": [
      "After removing the false positive pair ['25921a1', '78400gw1'], there are 635 congruent pairs remaining\n"
     ]
    }
   ],
   "source": [
    "#bad_pair = bad_pairs[0]\n",
    "bad_pair = ['25921a1', '78400gw1']\n",
    "assert bad_pair in congruent_sets\n",
    "congruent_sets.remove(bad_pair)\n",
    "print(\"After removing the false positive pair {}, there are {} congruent pairs remaining\".format(bad_pair,len(congruent_sets)))"
   ]
  },
  {
   "cell_type": "code",
   "execution_count": null,
   "metadata": {},
   "outputs": [],
   "source": []
  },
  {
   "cell_type": "code",
   "execution_count": null,
   "metadata": {},
   "outputs": [],
   "source": []
  },
  {
   "cell_type": "markdown",
   "metadata": {},
   "source": [
    "### Now we reduce to a smaller set of pairs such that every congruent pair is a twist of one in the smaller set"
   ]
  },
  {
   "cell_type": "code",
   "execution_count": 8,
   "metadata": {},
   "outputs": [
    {
     "name": "stdout",
     "output_type": "stream",
     "text": [
      "Out of 635 pairs, there are only 89 distinct pairs of j-invariants\n"
     ]
    }
   ],
   "source": [
    "j_pairs = [Set([EllipticCurve(s).j_invariant() for s in s2]) for s2 in congruent_sets]\n",
    "j_sets = list(Set(j_pairs))\n",
    "print(\"Out of {} pairs, there are only {} distinct pairs of j-invariants\".format(len(j_pairs),len(j_sets)))"
   ]
  },
  {
   "cell_type": "code",
   "execution_count": 8,
   "metadata": {},
   "outputs": [
    {
     "name": "stdout",
     "output_type": "stream",
     "text": [
      "89 congruent pairs up to twist: [['30576ct1', '336336hg1'], ['223440cj1', '223440ck1'], ['78650w1', '78650bc1'], ['80325dh1', '80325di1'], ['30400k1', '395200co1'], ['1935h1', '210915j1'], ['1254b1', '264594e1'], ['286650nv1', '286650oc1'], ['2352r1', '39984cw1'], ['307626j1', '307626k1'], ['187690d1', '187690e1'], ['1104g1', '140208j1'], ['8640s1', '319680z1'], ['28392s1', '28392t1'], ['263578b1', '263578c1'], ['221130dl1', '221130dm1'], ['8120d1', '332920k1'], ['29106g1', '378378bf1'], ['69360dh1', '69360di1'], ['1115a1', '125995a1'], ['148225bx1', '148225bz1'], ['18837e1', '239499f1'], ['144150bb1', '144150bc1'], ['63504f1', '63504g1'], ['31746q1', '222222bb1'], ['3900e1', '66300t1'], ['10082c1', '70574h1'], ['5400o1', '37800z1'], ['8096b1', '13984c1'], ['513a1', '77463a1'], ['1155b1', '42735a1'], ['25392m1', '25392n1'], ['5454o1', '59994q1'], ['238b1', '4522b1'], ['3718s1', '107822o1'], ['17550t1', '298350bc1'], ['53290a1', '53290b1'], ['255486c1', '394842d1'], ['284592em1', '284592en1'], ['30855a1', '215985bc1'], ['173264cm1', '173264cn1'], ['12600cl1', '239400cw1'], ['3528u1', '45864bg1'], ['5265b1', '194805d1'], ['42050z1', '294350cg1'], ['14196i1', '269724bf1'], ['34385a1', '378235m1'], ['9450du1', '292950fg1'], ['7938f1', '87318x1'], ['3850x1', '65450bh1'], ['426b1', '77106c1'], ['14400fc1', '100800pq1'], ['329a1', '59549a1'], ['1925j1', '140525p1'], ['22050ea1', '242550lx1'], ['73370h1', '130790e1'], ['88842l1', '120198k1'], ['4225h1', '299975j1'], ['30888g1', '216216bo1'], ['36784y1', '257488bc1'], ['1870c1', '24310c1'], ['28322e1', '311542m1'], ['4275d1', '175275k1'], ['19550j1', '215050bw1'], ['383670d1', '383670bj1'], ['127413o1', '127413q1'], ['287490dc1', '287490dd1'], ['497a1', '148603e1'], ['193358bf1', '193358bg1'], ['700h1', '11900g1'], ['9450bv1', '160650dj1'], ['1210k1', '1210m1'], ['32856o1', '229992e1'], ['3322c1', '235862c1'], ['228690fk1', '228690fv1'], ['117936q1', '117936r1'], ['232544f1', '232544g1'], ['22050fi1', '286650my1'], ['4704k1', '192864bq1'], ['23595h1', '165165ck1'], ['3850z1', '65450bi1'], ['5577b1', '39039b1'], ['17550de1', '122850ek1'], ['18850u1', '131950bc1'], ['1848f1', '97944h1'], ['15210bg1', '167310bd1'], ['176890bs1', '176890bt1'], ['66150gd1', '66150ge1'], ['9555a1', '181545bz1']]\n"
     ]
    }
   ],
   "source": [
    "congruent_pairs = []\n",
    "for jset in j_sets:\n",
    "    for s2 in congruent_sets:\n",
    "        if jset==Set([EllipticCurve(s).j_invariant() for s in s2]):\n",
    "            congruent_pairs.append(s2)\n",
    "            break\n",
    "print(\"{} congruent pairs up to twist: {}\".format(len(congruent_pairs),congruent_pairs))"
   ]
  },
  {
   "cell_type": "markdown",
   "metadata": {},
   "source": [
    "### Test whether all these are irreducible, i.e. have no $11$-isogenies:"
   ]
  },
  {
   "cell_type": "code",
   "execution_count": 9,
   "metadata": {},
   "outputs": [],
   "source": [
    "for s2 in congruent_pairs:\n",
    "    for s in s2:\n",
    "        E = EllipticCurve(s)\n",
    "        assert not E.isogenies_prime_degree(11)"
   ]
  },
  {
   "cell_type": "markdown",
   "metadata": {},
   "source": [
    "#### In fact the only isogeny degrees among these curves are 2, 3, 7:"
   ]
  },
  {
   "cell_type": "code",
   "execution_count": 10,
   "metadata": {},
   "outputs": [
    {
     "data": {
      "text/plain": [
       "[-1, 1, -1]"
      ]
     },
     "execution_count": 10,
     "metadata": {},
     "output_type": "execute_result"
    }
   ],
   "source": [
    "[legendre_symbol(d,11) for d in [2,3,7]]"
   ]
  },
  {
   "cell_type": "code",
   "execution_count": 9,
   "metadata": {},
   "outputs": [
    {
     "data": {
      "text/plain": [
       "{2, 3, 7}"
      ]
     },
     "execution_count": 9,
     "metadata": {},
     "output_type": "execute_result"
    }
   ],
   "source": [
    "sum([Set(EllipticCurve(s[0]).reducible_primes()) for s in congruent_pairs],Set())"
   ]
  },
  {
   "cell_type": "code",
   "execution_count": 9,
   "metadata": {},
   "outputs": [
    {
     "data": {
      "text/plain": [
       "[([], []),\n",
       " ([], []),\n",
       " ([2], []),\n",
       " ([], []),\n",
       " ([], []),\n",
       " ([], []),\n",
       " ([], []),\n",
       " ([], []),\n",
       " ([7], []),\n",
       " ([], []),\n",
       " ([], []),\n",
       " ([2, 3], []),\n",
       " ([], []),\n",
       " ([], []),\n",
       " ([], []),\n",
       " ([], []),\n",
       " ([], []),\n",
       " ([], []),\n",
       " ([], []),\n",
       " ([], []),\n",
       " ([], []),\n",
       " ([], []),\n",
       " ([], []),\n",
       " ([], []),\n",
       " ([], []),\n",
       " ([], []),\n",
       " ([], []),\n",
       " ([], []),\n",
       " ([], []),\n",
       " ([], []),\n",
       " ([], []),\n",
       " ([], []),\n",
       " ([], []),\n",
       " ([2], []),\n",
       " ([], []),\n",
       " ([], []),\n",
       " ([2], []),\n",
       " ([], []),\n",
       " ([], []),\n",
       " ([], []),\n",
       " ([], []),\n",
       " ([2], []),\n",
       " ([], []),\n",
       " ([], []),\n",
       " ([], []),\n",
       " ([], []),\n",
       " ([], []),\n",
       " ([], []),\n",
       " ([], []),\n",
       " ([2], []),\n",
       " ([2], []),\n",
       " ([], []),\n",
       " ([], []),\n",
       " ([], []),\n",
       " ([], []),\n",
       " ([], []),\n",
       " ([], []),\n",
       " ([3], []),\n",
       " ([], []),\n",
       " ([], []),\n",
       " ([], []),\n",
       " ([], []),\n",
       " ([2], []),\n",
       " ([], []),\n",
       " ([], []),\n",
       " ([], []),\n",
       " ([], []),\n",
       " ([], []),\n",
       " ([3], []),\n",
       " ([2], []),\n",
       " ([], []),\n",
       " ([], []),\n",
       " ([], []),\n",
       " ([], []),\n",
       " ([], []),\n",
       " ([], []),\n",
       " ([], []),\n",
       " ([], []),\n",
       " ([], []),\n",
       " ([], []),\n",
       " ([], []),\n",
       " ([], []),\n",
       " ([], []),\n",
       " ([], []),\n",
       " ([], []),\n",
       " ([], []),\n",
       " ([], []),\n",
       " ([], []),\n",
       " ([], [])]"
      ]
     },
     "execution_count": 9,
     "metadata": {},
     "output_type": "execute_result"
    }
   ],
   "source": [
    "[tuple(EllipticCurve(si).reducible_primes() for si in s) for s in congruent_pairs]"
   ]
  },
  {
   "cell_type": "code",
   "execution_count": null,
   "metadata": {},
   "outputs": [],
   "source": []
  },
  {
   "cell_type": "code",
   "execution_count": 10,
   "metadata": {},
   "outputs": [],
   "source": [
    "out = open(\"mod11pairs.m\",'w')\n",
    "out.write('pairs := [\\\\\\n')\n",
    "for s in congruent_sets[:-1]:\n",
    "    out.write('[\"{}\", \"{}\"],\\\\\\n'.format(s[0],s[1]))\n",
    "s = congruent_sets[-1]\n",
    "out.write('[\"{}\", \"{}\"]\\\\\\n'.format(s[0],s[1]))\n",
    "out.write('];\\n')\n",
    "out.close()"
   ]
  },
  {
   "cell_type": "code",
   "execution_count": 58,
   "metadata": {},
   "outputs": [],
   "source": [
    "out = open(\"mod11pairs_uptotwist.m\",'w')\n",
    "out.write('pairs := [\\\\\\n')\n",
    "for s in congruent_pairs[:-1]:\n",
    "    out.write('[EllipticCurve(\"{}\"), EllipticCurve(\"{}\")],\\\\\\n'.format(s[0],s[1]))\n",
    "s = congruent_pairs[-1]\n",
    "out.write('[EllipticCurve(\"{}\"), EllipticCurve(\"{}\")]\\\\\\n'.format(s[0],s[1]))\n",
    "out.write('];\\n')\n",
    "out.close()"
   ]
  },
  {
   "cell_type": "code",
   "execution_count": 10,
   "metadata": {},
   "outputs": [
    {
     "data": {
      "text/plain": [
       "89"
      ]
     },
     "execution_count": 10,
     "metadata": {},
     "output_type": "execute_result"
    }
   ],
   "source": [
    "len(congruent_pairs)"
   ]
  },
  {
   "cell_type": "code",
   "execution_count": 13,
   "metadata": {},
   "outputs": [
    {
     "name": "stdout",
     "output_type": "stream",
     "text": [
      "pair ['78650cy1', '78650dj1']: class sizes [2, 1]\n",
      "pair ['2352r1', '39984cw1']: class sizes [2, 1]\n",
      "pair ['414a1', '52578j1']: class sizes [4, 1]\n",
      "pair ['4275d1', '175275k1']: class sizes [2, 1]\n",
      "pair ['5950p1', '113050cj1']: class sizes [2, 1]\n",
      "pair ['53290m1', '53290n1']: class sizes [2, 1]\n",
      "pair ['12600cl1', '239400cw1']: class sizes [2, 1]\n",
      "pair ['3850i1', '65450i1']: class sizes [2, 1]\n",
      "pair ['426b1', '77106c1']: class sizes [2, 1]\n",
      "pair ['5200bh1', '369200w1']: class sizes [2, 1]\n",
      "pair ['193358bf1', '193358bg1']: class sizes [2, 1]\n",
      "pair ['11200bb1', '190400dh1']: class sizes [2, 1]\n"
     ]
    }
   ],
   "source": [
    "for pair in congruent_pairs:\n",
    "    sizes = [len(EllipticCurve(lab).isogeny_class()) for lab in pair]\n",
    "    if sizes != [1,1]:\n",
    "        print(\"pair {}: class sizes {}\".format(pair,sizes))"
   ]
  },
  {
   "cell_type": "code",
   "execution_count": 15,
   "metadata": {},
   "outputs": [
    {
     "data": {
      "text/plain": [
       "[-1, 1, -1]"
      ]
     },
     "execution_count": 15,
     "metadata": {},
     "output_type": "execute_result"
    }
   ],
   "source": [
    "[legendre_symbol(a,11) for a in [2,3,7]]"
   ]
  },
  {
   "cell_type": "code",
   "execution_count": 26,
   "metadata": {},
   "outputs": [
    {
     "name": "stdout",
     "output_type": "stream",
     "text": [
      "103 pairs written to file\n"
     ]
    }
   ],
   "source": [
    "npc=0\n",
    "out = open(\"mod11_pairs.m\", \"w\")\n",
    "out.write('pairs := [\\\\\\n')\n",
    "for i,pair in enumerate(congruent_pairs):\n",
    "    cc = [all_c(c) for c in pair]\n",
    "    for c1 in cc[0]:\n",
    "        for c2 in cc[1]:\n",
    "            npc+=1\n",
    "            out.write('[\"{}\", \"{}\"]'.format(c1[0],c2[0]))\n",
    "            if i+1<len(congruent_pairs):\n",
    "                out.write(',')\n",
    "            out.write('\\\\\\n')\n",
    "out.write('];\\n')\n",
    "out.close()           \n",
    "print(\"{} pairs written to file\".format(npc))            "
   ]
  },
  {
   "cell_type": "code",
   "execution_count": 28,
   "metadata": {},
   "outputs": [
    {
     "data": {
      "text/plain": [
       "89"
      ]
     },
     "execution_count": 28,
     "metadata": {},
     "output_type": "execute_result"
    }
   ],
   "source": [
    "len(congruent_pairs)"
   ]
  },
  {
   "cell_type": "code",
   "execution_count": 1,
   "metadata": {},
   "outputs": [],
   "source": [
    "E1 = EllipticCurve('25921a1')\n",
    "E2 = EllipticCurve('78400gw1')"
   ]
  },
  {
   "cell_type": "code",
   "execution_count": 12,
   "metadata": {},
   "outputs": [],
   "source": [
    "L = [next_prime(400000)]\n",
    "while len(L)<36:\n",
    "    L.append(next_prime(L[-1]))\n",
    " "
   ]
  },
  {
   "cell_type": "code",
   "execution_count": 13,
   "metadata": {},
   "outputs": [
    {
     "data": {
      "text/plain": [
       "False"
      ]
     },
     "execution_count": 13,
     "metadata": {},
     "output_type": "execute_result"
    }
   ],
   "source": [
    "all((E1.ap(p)==E2.ap(p)) for p in L)"
   ]
  },
  {
   "cell_type": "code",
   "execution_count": 15,
   "metadata": {},
   "outputs": [],
   "source": [
    "p=L[-1]"
   ]
  },
  {
   "cell_type": "code",
   "execution_count": 17,
   "metadata": {},
   "outputs": [
    {
     "data": {
      "text/plain": [
       "(-586, 586)"
      ]
     },
     "execution_count": 17,
     "metadata": {},
     "output_type": "execute_result"
    }
   ],
   "source": [
    "E1.ap(p), E2.ap(p)"
   ]
  },
  {
   "cell_type": "code",
   "execution_count": 18,
   "metadata": {},
   "outputs": [
    {
     "data": {
      "text/plain": [
       "2 * 293"
      ]
     },
     "execution_count": 18,
     "metadata": {},
     "output_type": "execute_result"
    }
   ],
   "source": [
    "586.factor()"
   ]
  },
  {
   "cell_type": "code",
   "execution_count": null,
   "metadata": {},
   "outputs": [],
   "source": [
    "def class_js(lab):\n",
    "    E = EllipticCurve(lab)\n",
    "    return Set([E1.j_invariant() for E1 in E.isogeny_class()])\n",
    "def set_js(s):\n",
    "    return sum([class_js(lab) for lab in s], Set())"
   ]
  },
  {
   "cell_type": "code",
   "execution_count": 9,
   "metadata": {},
   "outputs": [],
   "source": [
    "irred_js = Set()\n",
    "for s in congruent_sets:\n",
    "    js = set_js(s)\n",
    "    irred_js = irred_js + Set(js)"
   ]
  },
  {
   "cell_type": "code",
   "execution_count": 10,
   "metadata": {},
   "outputs": [
    {
     "data": {
      "text/plain": [
       "191"
      ]
     },
     "execution_count": 10,
     "metadata": {},
     "output_type": "execute_result"
    }
   ],
   "source": [
    "len(irred_js)"
   ]
  },
  {
   "cell_type": "code",
   "execution_count": null,
   "metadata": {},
   "outputs": [],
   "source": []
  }
 ],
 "metadata": {
  "kernelspec": {
   "display_name": "SageMath 8.7",
   "language": "",
   "name": "sagemath"
  },
  "language_info": {
   "codemirror_mode": {
    "name": "ipython",
    "version": 2
   },
   "file_extension": ".py",
   "mimetype": "text/x-python",
   "name": "python",
   "nbconvert_exporter": "python",
   "pygments_lexer": "ipython2",
   "version": "2.7.15"
  }
 },
 "nbformat": 4,
 "nbformat_minor": 2
}
